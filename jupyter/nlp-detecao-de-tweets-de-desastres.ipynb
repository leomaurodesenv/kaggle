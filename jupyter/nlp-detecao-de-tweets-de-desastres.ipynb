{
 "cells": [
  {
   "cell_type": "markdown",
   "metadata": {
    "papermill": {
     "duration": 0.029711,
     "end_time": "2021-02-19T20:15:34.390821",
     "exception": false,
     "start_time": "2021-02-19T20:15:34.361110",
     "status": "completed"
    },
    "tags": []
   },
   "source": [
    "# NLP - Detecção de Tweets de Desastres\n",
    "\n",
    "Este notebook realiza uma classificação de tweets (texto livre) utilizando Processamento de Linguagem Natural (Natural Language Processing - NLP) na competição [Natural Language Processing with Disaster Tweets](https://www.kaggle.com/c/nlp-getting-started/). Esta competição tem como propósito identificar quais mensagens do Twitter, chamadas de tweets, são claramente avisos de um \"desastre\" - tento em vista que pessoas estão utilizando o Twitter para anunciar uma emergência que estão observando em tempo real. Sendo assim, agências buscam monitorar tweets a fim de identificar esses desastres e ativamente atender o chamado, antes mesmo de receber uma ligação direta.\n",
    "\n",
    "> **Resumidamente**. Tarefa de classificação binária de texto, _i.e.,_ é um desastre ou não é.   \n",
    "> Conteúdo voltado para nível intermediário da área de Aprendizado de Máquina e Ciência de Dados!\n",
    "\n",
    "<a id=\"top\"></a>\n",
    "## Conteúdo\n",
    "\n",
    "> **Nota**. Alguns códigos e outputs serão ocultados, a fim de facilitar a visualização dos dados e dar destaque para o conteúdo mais importante.\n",
    "\n",
    "O notebook está organizado como segue:\n",
    "\n",
    "- [Dados](#data) - Tratamendo dos dados.\n",
    "  - Pré-processamento do texto\n",
    "- [Vetorização](#feature)\n",
    "  - Utilizando BOW \n",
    "- [Classificação](#classification) dos tweets.\n",
    "  - [Regressão Logística](#reg) - Classificação com Regressão Logística.\n",
    "  - [Explainability](#exp) - Simples visualização da importância das palavras."
   ]
  },
  {
   "cell_type": "markdown",
   "metadata": {
    "papermill": {
     "duration": 0.028362,
     "end_time": "2021-02-19T20:15:34.447786",
     "exception": false,
     "start_time": "2021-02-19T20:15:34.419424",
     "status": "completed"
    },
    "tags": []
   },
   "source": [
    "-----\n",
    "<a id=\"data\"></a>\n",
    "# Dados\n",
    "\n",
    "- Importando as bibliotécas\n",
    "- Carregamento dos dados\n",
    "- Pré-processamento dos dados\n",
    "\n",
    "[Voltar para o Topo](#top)"
   ]
  },
  {
   "cell_type": "markdown",
   "metadata": {
    "papermill": {
     "duration": 0.028209,
     "end_time": "2021-02-19T20:15:34.506565",
     "exception": false,
     "start_time": "2021-02-19T20:15:34.478356",
     "status": "completed"
    },
    "tags": []
   },
   "source": [
    "## Importando as Bibliotécas"
   ]
  },
  {
   "cell_type": "code",
   "execution_count": 1,
   "metadata": {
    "execution": {
     "iopub.execute_input": "2021-02-19T20:15:34.570008Z",
     "iopub.status.busy": "2021-02-19T20:15:34.569266Z",
     "iopub.status.idle": "2021-02-19T20:15:34.573352Z",
     "shell.execute_reply": "2021-02-19T20:15:34.572640Z"
    },
    "papermill": {
     "duration": 0.038632,
     "end_time": "2021-02-19T20:15:34.573578",
     "exception": false,
     "start_time": "2021-02-19T20:15:34.534946",
     "status": "completed"
    },
    "tags": []
   },
   "outputs": [],
   "source": [
    "# data processing, linear algebra\n",
    "import numpy as np\n",
    "import pandas as pd\n",
    "\n",
    "# visualization\n",
    "import matplotlib.pyplot as plt"
   ]
  },
  {
   "cell_type": "markdown",
   "metadata": {
    "papermill": {
     "duration": 0.028682,
     "end_time": "2021-02-19T20:15:34.631679",
     "exception": false,
     "start_time": "2021-02-19T20:15:34.602997",
     "status": "completed"
    },
    "tags": []
   },
   "source": [
    "## Carregando os Dados"
   ]
  },
  {
   "cell_type": "code",
   "execution_count": 2,
   "metadata": {
    "_cell_guid": "b1076dfc-b9ad-4769-8c92-a6c4dae69d19",
    "_kg_hide-input": true,
    "_uuid": "8f2839f25d086af736a60e9eeb907d3b93b6e0e5",
    "execution": {
     "iopub.execute_input": "2021-02-19T20:15:34.692807Z",
     "iopub.status.busy": "2021-02-19T20:15:34.692112Z",
     "iopub.status.idle": "2021-02-19T20:15:34.700054Z",
     "shell.execute_reply": "2021-02-19T20:15:34.699485Z"
    },
    "papermill": {
     "duration": 0.03978,
     "end_time": "2021-02-19T20:15:34.700211",
     "exception": false,
     "start_time": "2021-02-19T20:15:34.660431",
     "status": "completed"
    },
    "tags": []
   },
   "outputs": [
    {
     "name": "stdout",
     "output_type": "stream",
     "text": [
      "/kaggle/input/nlp-getting-started/sample_submission.csv\n",
      "/kaggle/input/nlp-getting-started/train.csv\n",
      "/kaggle/input/nlp-getting-started/test.csv\n"
     ]
    }
   ],
   "source": [
    "# imprime os arquivos\n",
    "import os\n",
    "\n",
    "for dirname, _, filenames in os.walk('/kaggle/input'):\n",
    "    for filename in filenames:\n",
    "        print(os.path.join(dirname, filename))"
   ]
  },
  {
   "cell_type": "code",
   "execution_count": 3,
   "metadata": {
    "execution": {
     "iopub.execute_input": "2021-02-19T20:15:34.769281Z",
     "iopub.status.busy": "2021-02-19T20:15:34.768246Z",
     "iopub.status.idle": "2021-02-19T20:15:34.849965Z",
     "shell.execute_reply": "2021-02-19T20:15:34.850550Z"
    },
    "papermill": {
     "duration": 0.120486,
     "end_time": "2021-02-19T20:15:34.850750",
     "exception": false,
     "start_time": "2021-02-19T20:15:34.730264",
     "status": "completed"
    },
    "tags": []
   },
   "outputs": [
    {
     "name": "stdout",
     "output_type": "stream",
     "text": [
      "Treino - linhas: 7613 colunas: 5\n",
      "Teste  - linhas: 3263 colunas: 4\n"
     ]
    }
   ],
   "source": [
    "df_train = pd.read_csv('/kaggle/input/nlp-getting-started/train.csv')\n",
    "df_test  = pd.read_csv('/kaggle/input/nlp-getting-started/test.csv')\n",
    "\n",
    "print('Treino - linhas: %d colunas: %d' % df_train.shape)\n",
    "print('Teste  - linhas: %d colunas: %d' % df_test.shape)"
   ]
  },
  {
   "cell_type": "markdown",
   "metadata": {
    "papermill": {
     "duration": 0.029402,
     "end_time": "2021-02-19T20:15:34.910155",
     "exception": false,
     "start_time": "2021-02-19T20:15:34.880753",
     "status": "completed"
    },
    "tags": []
   },
   "source": [
    "Tuplas de exemplo."
   ]
  },
  {
   "cell_type": "code",
   "execution_count": 4,
   "metadata": {
    "execution": {
     "iopub.execute_input": "2021-02-19T20:15:34.975479Z",
     "iopub.status.busy": "2021-02-19T20:15:34.974805Z",
     "iopub.status.idle": "2021-02-19T20:15:35.006663Z",
     "shell.execute_reply": "2021-02-19T20:15:35.007207Z"
    },
    "papermill": {
     "duration": 0.065975,
     "end_time": "2021-02-19T20:15:35.007429",
     "exception": false,
     "start_time": "2021-02-19T20:15:34.941454",
     "status": "completed"
    },
    "tags": []
   },
   "outputs": [
    {
     "data": {
      "text/html": [
       "<div>\n",
       "<style scoped>\n",
       "    .dataframe tbody tr th:only-of-type {\n",
       "        vertical-align: middle;\n",
       "    }\n",
       "\n",
       "    .dataframe tbody tr th {\n",
       "        vertical-align: top;\n",
       "    }\n",
       "\n",
       "    .dataframe thead th {\n",
       "        text-align: right;\n",
       "    }\n",
       "</style>\n",
       "<table border=\"1\" class=\"dataframe\">\n",
       "  <thead>\n",
       "    <tr style=\"text-align: right;\">\n",
       "      <th></th>\n",
       "      <th>id</th>\n",
       "      <th>keyword</th>\n",
       "      <th>location</th>\n",
       "      <th>text</th>\n",
       "      <th>target</th>\n",
       "    </tr>\n",
       "  </thead>\n",
       "  <tbody>\n",
       "    <tr>\n",
       "      <th>6611</th>\n",
       "      <td>9467</td>\n",
       "      <td>terrorism</td>\n",
       "      <td>NaN</td>\n",
       "      <td>Pakistan's Supreme Court rules to allow milita...</td>\n",
       "      <td>1</td>\n",
       "    </tr>\n",
       "    <tr>\n",
       "      <th>545</th>\n",
       "      <td>794</td>\n",
       "      <td>avalanche</td>\n",
       "      <td>NaN</td>\n",
       "      <td>Chevrolet : Avalanche LT 2011 lt used 5.3 l v ...</td>\n",
       "      <td>1</td>\n",
       "    </tr>\n",
       "    <tr>\n",
       "      <th>5911</th>\n",
       "      <td>8441</td>\n",
       "      <td>sandstorm</td>\n",
       "      <td>USA</td>\n",
       "      <td>Watch This Airport Get Swallowed Up By A Sands...</td>\n",
       "      <td>1</td>\n",
       "    </tr>\n",
       "  </tbody>\n",
       "</table>\n",
       "</div>"
      ],
      "text/plain": [
       "        id    keyword location  \\\n",
       "6611  9467  terrorism      NaN   \n",
       "545    794  avalanche      NaN   \n",
       "5911  8441  sandstorm      USA   \n",
       "\n",
       "                                                   text  target  \n",
       "6611  Pakistan's Supreme Court rules to allow milita...       1  \n",
       "545   Chevrolet : Avalanche LT 2011 lt used 5.3 l v ...       1  \n",
       "5911  Watch This Airport Get Swallowed Up By A Sands...       1  "
      ]
     },
     "execution_count": 4,
     "metadata": {},
     "output_type": "execute_result"
    }
   ],
   "source": [
    "df_train.sample(3)"
   ]
  },
  {
   "cell_type": "markdown",
   "metadata": {
    "papermill": {
     "duration": 0.031009,
     "end_time": "2021-02-19T20:15:35.069234",
     "exception": false,
     "start_time": "2021-02-19T20:15:35.038225",
     "status": "completed"
    },
    "tags": []
   },
   "source": [
    "Quais são as características dos nossos dados?\n",
    "\n",
    "- Quantos valores nulos temos?"
   ]
  },
  {
   "cell_type": "code",
   "execution_count": 5,
   "metadata": {
    "execution": {
     "iopub.execute_input": "2021-02-19T20:15:35.134711Z",
     "iopub.status.busy": "2021-02-19T20:15:35.133967Z",
     "iopub.status.idle": "2021-02-19T20:15:35.155050Z",
     "shell.execute_reply": "2021-02-19T20:15:35.155598Z"
    },
    "papermill": {
     "duration": 0.055316,
     "end_time": "2021-02-19T20:15:35.155824",
     "exception": false,
     "start_time": "2021-02-19T20:15:35.100508",
     "status": "completed"
    },
    "tags": []
   },
   "outputs": [
    {
     "name": "stdout",
     "output_type": "stream",
     "text": [
      "<class 'pandas.core.frame.DataFrame'>\n",
      "RangeIndex: 7613 entries, 0 to 7612\n",
      "Data columns (total 5 columns):\n",
      " #   Column    Non-Null Count  Dtype \n",
      "---  ------    --------------  ----- \n",
      " 0   id        7613 non-null   int64 \n",
      " 1   keyword   7552 non-null   object\n",
      " 2   location  5080 non-null   object\n",
      " 3   text      7613 non-null   object\n",
      " 4   target    7613 non-null   int64 \n",
      "dtypes: int64(2), object(3)\n",
      "memory usage: 297.5+ KB\n"
     ]
    }
   ],
   "source": [
    "df_train.info()"
   ]
  },
  {
   "cell_type": "markdown",
   "metadata": {
    "papermill": {
     "duration": 0.030426,
     "end_time": "2021-02-19T20:15:35.217174",
     "exception": false,
     "start_time": "2021-02-19T20:15:35.186748",
     "status": "completed"
    },
    "tags": []
   },
   "source": [
    "## Pré-Processamento dos Dados\n",
    "\n",
    "- Remove caracteres especiais - Links, @name, #hashtags.\n",
    "- Transforma as palavras em tokens.\n",
    "- Lematização - Reduz palavras para o lemma correspondente, de acordo com o significado no dicionário (análise vocabular e morfológica).\n",
    "- Stemização - Reduz palavras flexionadas (ou às vezes derivadas) ao seu radical (stem).\n",
    "- Vetorização dos dados - BOW, TFIDF"
   ]
  },
  {
   "cell_type": "code",
   "execution_count": 6,
   "metadata": {
    "_kg_hide-output": true,
    "execution": {
     "iopub.execute_input": "2021-02-19T20:15:35.282648Z",
     "iopub.status.busy": "2021-02-19T20:15:35.281939Z",
     "iopub.status.idle": "2021-02-19T20:15:37.608606Z",
     "shell.execute_reply": "2021-02-19T20:15:37.609158Z"
    },
    "papermill": {
     "duration": 2.361554,
     "end_time": "2021-02-19T20:15:37.609388",
     "exception": false,
     "start_time": "2021-02-19T20:15:35.247834",
     "status": "completed"
    },
    "tags": []
   },
   "outputs": [
    {
     "name": "stdout",
     "output_type": "stream",
     "text": [
      "[nltk_data] Downloading package wordnet to /usr/share/nltk_data...\n",
      "[nltk_data]   Package wordnet is already up-to-date!\n"
     ]
    },
    {
     "data": {
      "text/plain": [
       "True"
      ]
     },
     "execution_count": 6,
     "metadata": {},
     "output_type": "execute_result"
    }
   ],
   "source": [
    "# natural language toolkit\n",
    "import gensim\n",
    "import nltk\n",
    "\n",
    "from gensim.utils import simple_preprocess\n",
    "from gensim.parsing.preprocessing import STOPWORDS\n",
    "from nltk.stem import WordNetLemmatizer, SnowballStemmer\n",
    "from nltk.stem.porter import *\n",
    "\n",
    "stemmer = SnowballStemmer('english')\n",
    "nltk.download('wordnet')"
   ]
  },
  {
   "cell_type": "code",
   "execution_count": 7,
   "metadata": {
    "_kg_hide-input": true,
    "_kg_hide-output": true,
    "execution": {
     "iopub.execute_input": "2021-02-19T20:15:37.682500Z",
     "iopub.status.busy": "2021-02-19T20:15:37.681710Z",
     "iopub.status.idle": "2021-02-19T20:15:37.685685Z",
     "shell.execute_reply": "2021-02-19T20:15:37.684982Z"
    },
    "papermill": {
     "duration": 0.044208,
     "end_time": "2021-02-19T20:15:37.685850",
     "exception": false,
     "start_time": "2021-02-19T20:15:37.641642",
     "status": "completed"
    },
    "tags": []
   },
   "outputs": [],
   "source": [
    "# Lemmatization process\n",
    "def lemmatize(text):\n",
    "    return WordNetLemmatizer().lemmatize(text, pos='v')\n",
    "\n",
    "\n",
    "# Stemming process\n",
    "def stemming(text):\n",
    "    return stemmer.stem(text)\n",
    "\n",
    "\n",
    "# Remove special characteres\n",
    "def remove_special_char(text):\n",
    "    return ' '.join(re.sub(\"(@[A-Za-z0-9]+)|(#[A-Za-z0-9]+)|([^0-9A-Za-z \\t])|(\\w+:\\/\\/\\S+)\",\" \", text).split())\n",
    "\n",
    "\n",
    "# Tokenization process\n",
    "def preprocess(text):\n",
    "    result = []\n",
    "    new_text = remove_special_char(text)\n",
    "    for token in gensim.utils.simple_preprocess(new_text):\n",
    "        if token not in gensim.parsing.preprocessing.STOPWORDS and len(token) > 3:\n",
    "            LemmatizedToken = lemmatize(token)\n",
    "            result.append(stemming(LemmatizedToken))\n",
    "    return result"
   ]
  },
  {
   "cell_type": "markdown",
   "metadata": {
    "papermill": {
     "duration": 0.031835,
     "end_time": "2021-02-19T20:15:37.749737",
     "exception": false,
     "start_time": "2021-02-19T20:15:37.717902",
     "status": "completed"
    },
    "tags": []
   },
   "source": [
    "Seleciona um texto aleatório."
   ]
  },
  {
   "cell_type": "code",
   "execution_count": 8,
   "metadata": {
    "execution": {
     "iopub.execute_input": "2021-02-19T20:15:37.821778Z",
     "iopub.status.busy": "2021-02-19T20:15:37.820816Z",
     "iopub.status.idle": "2021-02-19T20:15:37.825094Z",
     "shell.execute_reply": "2021-02-19T20:15:37.824437Z"
    },
    "papermill": {
     "duration": 0.043024,
     "end_time": "2021-02-19T20:15:37.825268",
     "exception": false,
     "start_time": "2021-02-19T20:15:37.782244",
     "status": "completed"
    },
    "tags": []
   },
   "outputs": [
    {
     "name": "stdout",
     "output_type": "stream",
     "text": [
      "# handbags Genuine Mulberry Antony Cross Body Messenger Bag Dark Oak Soft Buffalo Leather:  å£279.00End Date: W... http://t.co/FTM4RKl8mN\n"
     ]
    }
   ],
   "source": [
    "random_index = 956\n",
    "random_text = df_train.iloc[random_index]['text']\n",
    "print(random_text)"
   ]
  },
  {
   "cell_type": "markdown",
   "metadata": {
    "papermill": {
     "duration": 0.032513,
     "end_time": "2021-02-19T20:15:37.890624",
     "exception": false,
     "start_time": "2021-02-19T20:15:37.858111",
     "status": "completed"
    },
    "tags": []
   },
   "source": [
    "Testando a remoção de caracteres especiais."
   ]
  },
  {
   "cell_type": "code",
   "execution_count": 9,
   "metadata": {
    "execution": {
     "iopub.execute_input": "2021-02-19T20:15:37.963688Z",
     "iopub.status.busy": "2021-02-19T20:15:37.962807Z",
     "iopub.status.idle": "2021-02-19T20:15:37.967206Z",
     "shell.execute_reply": "2021-02-19T20:15:37.966587Z"
    },
    "papermill": {
     "duration": 0.044383,
     "end_time": "2021-02-19T20:15:37.967392",
     "exception": false,
     "start_time": "2021-02-19T20:15:37.923009",
     "status": "completed"
    },
    "tags": []
   },
   "outputs": [
    {
     "data": {
      "text/plain": [
       "'handbags Genuine Mulberry Antony Cross Body Messenger Bag Dark Oak Soft Buffalo Leather 279 00End Date W'"
      ]
     },
     "execution_count": 9,
     "metadata": {},
     "output_type": "execute_result"
    }
   ],
   "source": [
    "remove_special_char(random_text)"
   ]
  },
  {
   "cell_type": "markdown",
   "metadata": {
    "papermill": {
     "duration": 0.032538,
     "end_time": "2021-02-19T20:15:38.032976",
     "exception": false,
     "start_time": "2021-02-19T20:15:38.000438",
     "status": "completed"
    },
    "tags": []
   },
   "source": [
    "Testa o pré-processamento do texto."
   ]
  },
  {
   "cell_type": "code",
   "execution_count": 10,
   "metadata": {
    "execution": {
     "iopub.execute_input": "2021-02-19T20:15:38.105797Z",
     "iopub.status.busy": "2021-02-19T20:15:38.104951Z",
     "iopub.status.idle": "2021-02-19T20:15:40.387731Z",
     "shell.execute_reply": "2021-02-19T20:15:40.386791Z"
    },
    "papermill": {
     "duration": 2.322356,
     "end_time": "2021-02-19T20:15:40.387951",
     "exception": false,
     "start_time": "2021-02-19T20:15:38.065595",
     "status": "completed"
    },
    "tags": []
   },
   "outputs": [
    {
     "name": "stdout",
     "output_type": "stream",
     "text": [
      "['handbag', 'genuin', 'mulberri', 'antoni', 'cross', 'bodi', 'messeng', 'dark', 'soft', 'buffalo', 'leather', 'date']\n"
     ]
    }
   ],
   "source": [
    "print(preprocess(random_text))"
   ]
  },
  {
   "cell_type": "markdown",
   "metadata": {
    "papermill": {
     "duration": 0.033007,
     "end_time": "2021-02-19T20:15:40.455113",
     "exception": false,
     "start_time": "2021-02-19T20:15:40.422106",
     "status": "completed"
    },
    "tags": []
   },
   "source": [
    "Executa o pré-processamento em toda base de treino."
   ]
  },
  {
   "cell_type": "code",
   "execution_count": 11,
   "metadata": {
    "execution": {
     "iopub.execute_input": "2021-02-19T20:15:40.566372Z",
     "iopub.status.busy": "2021-02-19T20:15:40.550525Z",
     "iopub.status.idle": "2021-02-19T20:15:43.410461Z",
     "shell.execute_reply": "2021-02-19T20:15:43.409717Z"
    },
    "papermill": {
     "duration": 2.921435,
     "end_time": "2021-02-19T20:15:43.410639",
     "exception": false,
     "start_time": "2021-02-19T20:15:40.489204",
     "status": "completed"
    },
    "tags": []
   },
   "outputs": [
    {
     "data": {
      "text/plain": [
       "0                           [deed, reason, allah, forgiv]\n",
       "1                      [forest, near, rong, sask, canada]\n",
       "2       [resid, ask, shelter, place, notifi, offic, ev...\n",
       "3               [peopl, receiv, evacu, order, california]\n",
       "4                [send, photo, rubi, smoke, pour, school]\n",
       "                              ...                        \n",
       "7608    [giant, crane, hold, bridg, collaps, nearbi, h...\n",
       "7609    [ahrari, control, wild, fire, california, nort...\n",
       "7610                                    [volcano, hawaii]\n",
       "7611    [polic, investig, bike, collid, littl, portug,...\n",
       "7612    [latest, home, raze, northern, california, wil...\n",
       "Name: text.process, Length: 7613, dtype: object"
      ]
     },
     "metadata": {},
     "output_type": "display_data"
    }
   ],
   "source": [
    "df_train['text.process'] = df_train['text'].map(preprocess)\n",
    "df_test['text.process']  = df_test['text'].map(preprocess)\n",
    "display(df_train['text.process'])"
   ]
  },
  {
   "cell_type": "markdown",
   "metadata": {
    "papermill": {
     "duration": 0.043915,
     "end_time": "2021-02-19T20:15:43.493624",
     "exception": false,
     "start_time": "2021-02-19T20:15:43.449709",
     "status": "completed"
    },
    "tags": []
   },
   "source": [
    "-----\n",
    "<a id=\"feature\"></a>\n",
    "# Vetorização\n",
    "\n",
    "Vetorização consiste em transformar os texto em vetores, a fim de poder aplicar métodos de Aprendizado de Máquina.   \n",
    "Neste estudo de caso, tilizaremos o BOW - melhor explicado a seguir.\n",
    "\n",
    "> Visualização da importância das palavras será abordado após a classificação.\n",
    "\n",
    "\n",
    "[Voltar para o Topo](#top)"
   ]
  },
  {
   "cell_type": "markdown",
   "metadata": {
    "papermill": {
     "duration": 0.046879,
     "end_time": "2021-02-19T20:15:43.578479",
     "exception": false,
     "start_time": "2021-02-19T20:15:43.531600",
     "status": "completed"
    },
    "tags": []
   },
   "source": [
    "## Bag of Words (BOW)\n",
    "\n",
    "Bag-of-words (BOW) é uma representação simplificada usada no Processamento de Linguagem Natural (NLP). Consiste em considerar cada palavra como um atributo do documento, neste caso um tweet. Logo, cada tweet se torna um vetor com a contagem de vezes que a respectiva palavra (atributo do vetor) aparece no documento.\n",
    "\n",
    "> **Nota**. Os vetores serão gigantestos, pois, usualmente, possuem muitas palavras unicas nos tweets."
   ]
  },
  {
   "cell_type": "code",
   "execution_count": 12,
   "metadata": {
    "execution": {
     "iopub.execute_input": "2021-02-19T20:15:43.655891Z",
     "iopub.status.busy": "2021-02-19T20:15:43.654807Z",
     "iopub.status.idle": "2021-02-19T20:15:43.658960Z",
     "shell.execute_reply": "2021-02-19T20:15:43.659575Z"
    },
    "papermill": {
     "duration": 0.046897,
     "end_time": "2021-02-19T20:15:43.659795",
     "exception": false,
     "start_time": "2021-02-19T20:15:43.612898",
     "status": "completed"
    },
    "tags": []
   },
   "outputs": [],
   "source": [
    "# dense matrix\n",
    "from gensim.matutils import corpus2dense"
   ]
  },
  {
   "cell_type": "markdown",
   "metadata": {
    "papermill": {
     "duration": 0.034164,
     "end_time": "2021-02-19T20:15:43.728868",
     "exception": false,
     "start_time": "2021-02-19T20:15:43.694704",
     "status": "completed"
    },
    "tags": []
   },
   "source": [
    "Busca as palavras unicas, chamados de tokens, do conjunto de dados de treinamento."
   ]
  },
  {
   "cell_type": "code",
   "execution_count": 13,
   "metadata": {
    "execution": {
     "iopub.execute_input": "2021-02-19T20:15:43.834237Z",
     "iopub.status.busy": "2021-02-19T20:15:43.829118Z",
     "iopub.status.idle": "2021-02-19T20:15:44.002941Z",
     "shell.execute_reply": "2021-02-19T20:15:44.003502Z"
    },
    "papermill": {
     "duration": 0.228621,
     "end_time": "2021-02-19T20:15:44.003726",
     "exception": false,
     "start_time": "2021-02-19T20:15:43.775105",
     "status": "completed"
    },
    "tags": []
   },
   "outputs": [],
   "source": [
    "dictionary = gensim.corpora.Dictionary(df_train['text.process'])"
   ]
  },
  {
   "cell_type": "markdown",
   "metadata": {
    "papermill": {
     "duration": 0.034499,
     "end_time": "2021-02-19T20:15:44.073254",
     "exception": false,
     "start_time": "2021-02-19T20:15:44.038755",
     "status": "completed"
    },
    "tags": []
   },
   "source": [
    "Filtra os tokens que\n",
    "\n",
    "- Aparecem em menos de 10 tweets (valor absoluto); or\n",
    "- Mais de 75% dos tweets (fração de todos os tweets).\n",
    "- Por fim, mantenha os 3,000 tokens mais frequentes."
   ]
  },
  {
   "cell_type": "code",
   "execution_count": 14,
   "metadata": {
    "execution": {
     "iopub.execute_input": "2021-02-19T20:15:44.156687Z",
     "iopub.status.busy": "2021-02-19T20:15:44.151436Z",
     "iopub.status.idle": "2021-02-19T20:15:44.179063Z",
     "shell.execute_reply": "2021-02-19T20:15:44.180315Z"
    },
    "papermill": {
     "duration": 0.072562,
     "end_time": "2021-02-19T20:15:44.180542",
     "exception": false,
     "start_time": "2021-02-19T20:15:44.107980",
     "status": "completed"
    },
    "tags": []
   },
   "outputs": [],
   "source": [
    "keep_terms = 3_000\n",
    "dictionary.filter_extremes(no_below=10, no_above=0.85, keep_n=keep_terms)"
   ]
  },
  {
   "cell_type": "markdown",
   "metadata": {
    "papermill": {
     "duration": 0.03634,
     "end_time": "2021-02-19T20:15:44.251191",
     "exception": false,
     "start_time": "2021-02-19T20:15:44.214851",
     "status": "completed"
    },
    "tags": []
   },
   "source": [
    "Constroí tuplas de _(palavra, contagem)_ para cada tweet."
   ]
  },
  {
   "cell_type": "code",
   "execution_count": 15,
   "metadata": {
    "execution": {
     "iopub.execute_input": "2021-02-19T20:15:44.370959Z",
     "iopub.status.busy": "2021-02-19T20:15:44.355411Z",
     "iopub.status.idle": "2021-02-19T20:15:44.430861Z",
     "shell.execute_reply": "2021-02-19T20:15:44.430224Z"
    },
    "papermill": {
     "duration": 0.139503,
     "end_time": "2021-02-19T20:15:44.431020",
     "exception": false,
     "start_time": "2021-02-19T20:15:44.291517",
     "status": "completed"
    },
    "tags": []
   },
   "outputs": [],
   "source": [
    "bow_corpus      = [dictionary.doc2bow(doc) for doc in df_train['text.process'].tolist()]\n",
    "bow_corpus_test = [dictionary.doc2bow(doc) for doc in df_test['text.process'].tolist()]"
   ]
  },
  {
   "cell_type": "markdown",
   "metadata": {
    "papermill": {
     "duration": 0.034004,
     "end_time": "2021-02-19T20:15:44.499071",
     "exception": false,
     "start_time": "2021-02-19T20:15:44.465067",
     "status": "completed"
    },
    "tags": []
   },
   "source": [
    "Verificando um dicionário BOW de um tweet aleatório."
   ]
  },
  {
   "cell_type": "code",
   "execution_count": 16,
   "metadata": {
    "execution": {
     "iopub.execute_input": "2021-02-19T20:15:44.573679Z",
     "iopub.status.busy": "2021-02-19T20:15:44.572709Z",
     "iopub.status.idle": "2021-02-19T20:15:44.576536Z",
     "shell.execute_reply": "2021-02-19T20:15:44.577106Z"
    },
    "papermill": {
     "duration": 0.044462,
     "end_time": "2021-02-19T20:15:44.577307",
     "exception": false,
     "start_time": "2021-02-19T20:15:44.532845",
     "status": "completed"
    },
    "tags": []
   },
   "outputs": [
    {
     "data": {
      "text/plain": [
       "[(167, 1), (294, 1), (399, 1), (451, 1), (457, 1), (741, 1)]"
      ]
     },
     "metadata": {},
     "output_type": "display_data"
    }
   ],
   "source": [
    "display(bow_corpus[random_index])"
   ]
  },
  {
   "cell_type": "markdown",
   "metadata": {
    "papermill": {
     "duration": 0.034342,
     "end_time": "2021-02-19T20:15:44.645915",
     "exception": false,
     "start_time": "2021-02-19T20:15:44.611573",
     "status": "completed"
    },
    "tags": []
   },
   "source": [
    "Criando as matrizes densos, isto é a construção de uma grande matriz com cada tweet e cada palavra dentro do dicionário."
   ]
  },
  {
   "cell_type": "code",
   "execution_count": 17,
   "metadata": {
    "execution": {
     "iopub.execute_input": "2021-02-19T20:15:44.719222Z",
     "iopub.status.busy": "2021-02-19T20:15:44.718186Z",
     "iopub.status.idle": "2021-02-19T20:15:45.393628Z",
     "shell.execute_reply": "2021-02-19T20:15:45.392299Z"
    },
    "papermill": {
     "duration": 0.713584,
     "end_time": "2021-02-19T20:15:45.393811",
     "exception": false,
     "start_time": "2021-02-19T20:15:44.680227",
     "status": "completed"
    },
    "tags": []
   },
   "outputs": [],
   "source": [
    "id_test = df_test['id'].tolist()\n",
    "X_dense      = corpus2dense(bow_corpus, num_terms=keep_terms, num_docs=df_train.shape[0]).T\n",
    "X_dense_test = corpus2dense(bow_corpus_test, num_terms=keep_terms, num_docs=df_test.shape[0]).T"
   ]
  },
  {
   "cell_type": "code",
   "execution_count": 18,
   "metadata": {
    "_kg_hide-input": true,
    "execution": {
     "iopub.execute_input": "2021-02-19T20:15:45.473787Z",
     "iopub.status.busy": "2021-02-19T20:15:45.472744Z",
     "iopub.status.idle": "2021-02-19T20:15:45.480838Z",
     "shell.execute_reply": "2021-02-19T20:15:45.479882Z"
    },
    "papermill": {
     "duration": 0.048992,
     "end_time": "2021-02-19T20:15:45.481056",
     "exception": false,
     "start_time": "2021-02-19T20:15:45.432064",
     "status": "completed"
    },
    "tags": []
   },
   "outputs": [
    {
     "name": "stdout",
     "output_type": "stream",
     "text": [
      "linhas  - 7613\n",
      "colunas - 3000\n"
     ]
    }
   ],
   "source": [
    "lin, col = X_dense.shape\n",
    "print('linhas  -', lin)\n",
    "print('colunas -', col)"
   ]
  },
  {
   "cell_type": "markdown",
   "metadata": {
    "papermill": {
     "duration": 0.037517,
     "end_time": "2021-02-19T20:15:45.557785",
     "exception": false,
     "start_time": "2021-02-19T20:15:45.520268",
     "status": "completed"
    },
    "tags": []
   },
   "source": [
    "-----\n",
    "<a id=\"classification\"></a>\n",
    "# Classificação\n",
    "\n",
    "Nesta seção utilizamos a Regressão Logística como algoritmo de classificação.\n",
    "\n",
    "\n",
    "[Voltar para o Topo](#top)"
   ]
  },
  {
   "cell_type": "code",
   "execution_count": 19,
   "metadata": {
    "execution": {
     "iopub.execute_input": "2021-02-19T20:15:45.637145Z",
     "iopub.status.busy": "2021-02-19T20:15:45.636422Z",
     "iopub.status.idle": "2021-02-19T20:15:45.639073Z",
     "shell.execute_reply": "2021-02-19T20:15:45.639625Z"
    },
    "papermill": {
     "duration": 0.045215,
     "end_time": "2021-02-19T20:15:45.639842",
     "exception": false,
     "start_time": "2021-02-19T20:15:45.594627",
     "status": "completed"
    },
    "tags": []
   },
   "outputs": [],
   "source": [
    "# training and test\n",
    "from sklearn.model_selection import train_test_split\n",
    "from sklearn.metrics import accuracy_score"
   ]
  },
  {
   "cell_type": "markdown",
   "metadata": {
    "papermill": {
     "duration": 0.038415,
     "end_time": "2021-02-19T20:15:45.715773",
     "exception": false,
     "start_time": "2021-02-19T20:15:45.677358",
     "status": "completed"
    },
    "tags": []
   },
   "source": [
    "## Conjunto de Treinamento e Validação"
   ]
  },
  {
   "cell_type": "code",
   "execution_count": 20,
   "metadata": {
    "_kg_hide-input": true,
    "_kg_hide-output": true,
    "execution": {
     "iopub.execute_input": "2021-02-19T20:15:45.797361Z",
     "iopub.status.busy": "2021-02-19T20:15:45.796631Z",
     "iopub.status.idle": "2021-02-19T20:15:45.800798Z",
     "shell.execute_reply": "2021-02-19T20:15:45.800021Z"
    },
    "papermill": {
     "duration": 0.048651,
     "end_time": "2021-02-19T20:15:45.800974",
     "exception": false,
     "start_time": "2021-02-19T20:15:45.752323",
     "status": "completed"
    },
    "tags": []
   },
   "outputs": [],
   "source": [
    "# return X_train, X_test, y_train, y_test from a dense_matrix\n",
    "def get_x_y(dense_matrix, target):\n",
    "    X = dense_matrix\n",
    "    y = target\n",
    "    X_train, X_test, y_train, y_test = train_test_split(X, y, test_size=0.1, random_state=26)\n",
    "    return X_train, X_test, y_train, y_test"
   ]
  },
  {
   "cell_type": "code",
   "execution_count": 21,
   "metadata": {
    "execution": {
     "iopub.execute_input": "2021-02-19T20:15:45.882296Z",
     "iopub.status.busy": "2021-02-19T20:15:45.881517Z",
     "iopub.status.idle": "2021-02-19T20:15:46.298813Z",
     "shell.execute_reply": "2021-02-19T20:15:46.298080Z"
    },
    "papermill": {
     "duration": 0.460584,
     "end_time": "2021-02-19T20:15:46.298984",
     "exception": false,
     "start_time": "2021-02-19T20:15:45.838400",
     "status": "completed"
    },
    "tags": []
   },
   "outputs": [],
   "source": [
    "y_dense = df_train['target'].tolist()\n",
    "X_train, X_test, y_train, y_test = get_x_y(X_dense, y_dense)"
   ]
  },
  {
   "cell_type": "markdown",
   "metadata": {
    "papermill": {
     "duration": 0.037929,
     "end_time": "2021-02-19T20:15:46.373910",
     "exception": false,
     "start_time": "2021-02-19T20:15:46.335981",
     "status": "completed"
    },
    "tags": []
   },
   "source": [
    "<a id=\"reg\"></a>\n",
    "## Regressão Logística\n",
    "\n",
    "> Aumentar o número de iterações da Regressão não mudou o resultado."
   ]
  },
  {
   "cell_type": "code",
   "execution_count": 22,
   "metadata": {
    "execution": {
     "iopub.execute_input": "2021-02-19T20:15:46.455589Z",
     "iopub.status.busy": "2021-02-19T20:15:46.454825Z",
     "iopub.status.idle": "2021-02-19T20:15:46.457543Z",
     "shell.execute_reply": "2021-02-19T20:15:46.456836Z"
    },
    "papermill": {
     "duration": 0.046561,
     "end_time": "2021-02-19T20:15:46.457705",
     "exception": false,
     "start_time": "2021-02-19T20:15:46.411144",
     "status": "completed"
    },
    "tags": []
   },
   "outputs": [],
   "source": [
    "# machine learning algorithm\n",
    "from sklearn.linear_model import LogisticRegression"
   ]
  },
  {
   "cell_type": "code",
   "execution_count": 23,
   "metadata": {
    "_kg_hide-input": true,
    "_kg_hide-output": true,
    "execution": {
     "iopub.execute_input": "2021-02-19T20:15:46.540994Z",
     "iopub.status.busy": "2021-02-19T20:15:46.540273Z",
     "iopub.status.idle": "2021-02-19T20:15:46.543917Z",
     "shell.execute_reply": "2021-02-19T20:15:46.543164Z"
    },
    "papermill": {
     "duration": 0.048433,
     "end_time": "2021-02-19T20:15:46.544077",
     "exception": false,
     "start_time": "2021-02-19T20:15:46.495644",
     "status": "completed"
    },
    "tags": []
   },
   "outputs": [],
   "source": [
    "# trainning and test\n",
    "def train_test(class_model, X_train, X_test, y_train, y_test):\n",
    "    model = class_model.fit(X_train, y_train)\n",
    "    y_pred = model.predict(X_test)\n",
    "    return model, accuracy_score(y_test, y_pred)\n",
    "\n",
    "# print everything\n",
    "def print_train_test(class_model, X_train, X_test, y_train, y_test):\n",
    "    model, acc = train_test(class_model, X_train, X_test, y_train, y_test)\n",
    "    display(model)\n",
    "    display('score: %.4f' % acc)\n",
    "    return model"
   ]
  },
  {
   "cell_type": "code",
   "execution_count": 24,
   "metadata": {
    "execution": {
     "iopub.execute_input": "2021-02-19T20:15:46.622471Z",
     "iopub.status.busy": "2021-02-19T20:15:46.621763Z",
     "iopub.status.idle": "2021-02-19T20:15:49.581364Z",
     "shell.execute_reply": "2021-02-19T20:15:49.580816Z"
    },
    "papermill": {
     "duration": 3.001411,
     "end_time": "2021-02-19T20:15:49.581528",
     "exception": false,
     "start_time": "2021-02-19T20:15:46.580117",
     "status": "completed"
    },
    "tags": []
   },
   "outputs": [
    {
     "data": {
      "text/plain": [
       "LogisticRegression(random_state=26)"
      ]
     },
     "metadata": {},
     "output_type": "display_data"
    },
    {
     "data": {
      "text/plain": [
       "'score: 0.7874'"
      ]
     },
     "metadata": {},
     "output_type": "display_data"
    },
    {
     "name": "stdout",
     "output_type": "stream",
     "text": [
      "CPU times: user 2.85 s, sys: 88.7 ms, total: 2.94 s\n",
      "Wall time: 2.96 s\n"
     ]
    }
   ],
   "source": [
    "%%time\n",
    "# train, test model\n",
    "class_model = LogisticRegression(random_state=26, max_iter=100)\n",
    "model = print_train_test(class_model, X_train, X_test, y_train, y_test)"
   ]
  },
  {
   "cell_type": "markdown",
   "metadata": {
    "papermill": {
     "duration": 0.036815,
     "end_time": "2021-02-19T20:15:49.655890",
     "exception": false,
     "start_time": "2021-02-19T20:15:49.619075",
     "status": "completed"
    },
    "tags": []
   },
   "source": [
    "Treinando o modelo, utilizando todo o dataset de treinamento."
   ]
  },
  {
   "cell_type": "code",
   "execution_count": 25,
   "metadata": {
    "execution": {
     "iopub.execute_input": "2021-02-19T20:15:49.736794Z",
     "iopub.status.busy": "2021-02-19T20:15:49.735924Z",
     "iopub.status.idle": "2021-02-19T20:15:53.779674Z",
     "shell.execute_reply": "2021-02-19T20:15:53.778950Z"
    },
    "papermill": {
     "duration": 4.086991,
     "end_time": "2021-02-19T20:15:53.779835",
     "exception": false,
     "start_time": "2021-02-19T20:15:49.692844",
     "status": "completed"
    },
    "tags": []
   },
   "outputs": [],
   "source": [
    "model = class_model.fit(X_dense, y_dense)"
   ]
  },
  {
   "cell_type": "markdown",
   "metadata": {
    "papermill": {
     "duration": 0.03673,
     "end_time": "2021-02-19T20:15:53.853753",
     "exception": false,
     "start_time": "2021-02-19T20:15:53.817023",
     "status": "completed"
    },
    "tags": []
   },
   "source": [
    "Gerando o arquivo de submissão da competição. _Função ocultada._"
   ]
  },
  {
   "cell_type": "code",
   "execution_count": 26,
   "metadata": {
    "_kg_hide-input": true,
    "_kg_hide-output": true,
    "execution": {
     "iopub.execute_input": "2021-02-19T20:15:53.936129Z",
     "iopub.status.busy": "2021-02-19T20:15:53.935025Z",
     "iopub.status.idle": "2021-02-19T20:15:53.938048Z",
     "shell.execute_reply": "2021-02-19T20:15:53.938541Z"
    },
    "papermill": {
     "duration": 0.04759,
     "end_time": "2021-02-19T20:15:53.938742",
     "exception": false,
     "start_time": "2021-02-19T20:15:53.891152",
     "status": "completed"
    },
    "tags": []
   },
   "outputs": [],
   "source": [
    "def gerenate_submission(model, X, id_test, file_name):\n",
    "    target  = model.predict(X)\n",
    "    submission = {'id':id_test, 'target':target}\n",
    "    df_submission = pd.DataFrame(submission)\n",
    "    df_submission.to_csv(file_name, index=False)"
   ]
  },
  {
   "cell_type": "code",
   "execution_count": 27,
   "metadata": {
    "execution": {
     "iopub.execute_input": "2021-02-19T20:15:54.021518Z",
     "iopub.status.busy": "2021-02-19T20:15:54.020356Z",
     "iopub.status.idle": "2021-02-19T20:15:54.144817Z",
     "shell.execute_reply": "2021-02-19T20:15:54.143967Z"
    },
    "papermill": {
     "duration": 0.167638,
     "end_time": "2021-02-19T20:15:54.144997",
     "exception": false,
     "start_time": "2021-02-19T20:15:53.977359",
     "status": "completed"
    },
    "tags": []
   },
   "outputs": [],
   "source": [
    "gerenate_submission(model, X_dense_test, id_test, 'submission.csv')"
   ]
  },
  {
   "cell_type": "markdown",
   "metadata": {
    "papermill": {
     "duration": 0.037706,
     "end_time": "2021-02-19T20:15:54.220634",
     "exception": false,
     "start_time": "2021-02-19T20:15:54.182928",
     "status": "completed"
    },
    "tags": []
   },
   "source": [
    "<a id=\"exp\"></a>\n",
    "## Explainability\n",
    "\n",
    "Estudar qual a importância das features para o modelo.\n",
    "\n",
    "Neste estudo explora-se:\n",
    "\n",
    "- pacote `sklearn`, listando os pesos da Regressão Logística"
   ]
  },
  {
   "cell_type": "code",
   "execution_count": 28,
   "metadata": {
    "execution": {
     "iopub.execute_input": "2021-02-19T20:15:54.301988Z",
     "iopub.status.busy": "2021-02-19T20:15:54.301127Z",
     "iopub.status.idle": "2021-02-19T20:15:54.304968Z",
     "shell.execute_reply": "2021-02-19T20:15:54.304298Z"
    },
    "papermill": {
     "duration": 0.046818,
     "end_time": "2021-02-19T20:15:54.305122",
     "exception": false,
     "start_time": "2021-02-19T20:15:54.258304",
     "status": "completed"
    },
    "tags": []
   },
   "outputs": [],
   "source": [
    "# visualization\n",
    "from matplotlib import pyplot"
   ]
  },
  {
   "cell_type": "markdown",
   "metadata": {
    "papermill": {
     "duration": 0.037497,
     "end_time": "2021-02-19T20:15:54.380600",
     "exception": false,
     "start_time": "2021-02-19T20:15:54.343103",
     "status": "completed"
    },
    "tags": []
   },
   "source": [
    "### Importância dos Atributos\n",
    "\n",
    "Imprimir a importância de algumas palavras, bem como visualizar dos demais atributos."
   ]
  },
  {
   "cell_type": "code",
   "execution_count": 29,
   "metadata": {
    "_kg_hide-input": true,
    "execution": {
     "iopub.execute_input": "2021-02-19T20:15:54.463825Z",
     "iopub.status.busy": "2021-02-19T20:15:54.462902Z",
     "iopub.status.idle": "2021-02-19T20:15:54.467681Z",
     "shell.execute_reply": "2021-02-19T20:15:54.466900Z"
    },
    "papermill": {
     "duration": 0.049502,
     "end_time": "2021-02-19T20:15:54.467886",
     "exception": false,
     "start_time": "2021-02-19T20:15:54.418384",
     "status": "completed"
    },
    "tags": []
   },
   "outputs": [
    {
     "name": "stdout",
     "output_type": "stream",
     "text": [
      "Feature: reason, Score: 0.11529\n",
      "Feature: canada, Score: 0.71021\n",
      "Feature: forest, Score: 1.70087\n",
      "Feature: near, Score: 1.10845\n",
      "Feature: ask, Score: -0.55803\n",
      "Feature: evacu, Score: 1.81385\n",
      "Feature: expect, Score: 0.53518\n",
      "Feature: offic, Score: 0.50711\n",
      "Feature: order, Score: 0.43766\n",
      "Feature: place, Score: -0.24343\n",
      "Feature: california, Score: 1.90591\n"
     ]
    }
   ],
   "source": [
    "# get importance\n",
    "importance = model.coef_[0]\n",
    "# summarize feature importance\n",
    "for i,v in enumerate(importance):\n",
    "    print('Feature: %s, Score: %.5f' % (dictionary.get(i),v))\n",
    "    if i >= 10:\n",
    "        break"
   ]
  },
  {
   "cell_type": "code",
   "execution_count": 30,
   "metadata": {
    "execution": {
     "iopub.execute_input": "2021-02-19T20:15:54.571733Z",
     "iopub.status.busy": "2021-02-19T20:15:54.569890Z",
     "iopub.status.idle": "2021-02-19T20:15:57.885720Z",
     "shell.execute_reply": "2021-02-19T20:15:57.885017Z"
    },
    "papermill": {
     "duration": 3.378817,
     "end_time": "2021-02-19T20:15:57.885883",
     "exception": false,
     "start_time": "2021-02-19T20:15:54.507066",
     "status": "completed"
    },
    "tags": []
   },
   "outputs": [
    {
     "data": {
      "image/png": "[encoded data removed]",
      "text/plain": [
       "<Figure size 432x288 with 1 Axes>"
      ]
     },
     "metadata": {
      "needs_background": "light"
     },
     "output_type": "display_data"
    },
    {
     "data": {
      "image/png": "[encoded data removed]",
      "text/plain": [
       "<Figure size 432x288 with 1 Axes>"
      ]
     },
     "metadata": {
      "needs_background": "light"
     },
     "output_type": "display_data"
    },
    {
     "data": {
      "image/png": "[encoded data removed]",
      "text/plain": [
       "<Figure size 432x288 with 1 Axes>"
      ]
     },
     "metadata": {
      "needs_background": "light"
     },
     "output_type": "display_data"
    }
   ],
   "source": [
    "# plot feature importance\n",
    "init_feature = 0\n",
    "max_feature = 500\n",
    "\n",
    "for i in range(3):\n",
    "    pyplot.bar([x for x in range(init_feature, max_feature)], importance[init_feature:max_feature])\n",
    "    pyplot.title('Importance from %d to %d' % (init_feature, max_feature))\n",
    "    pyplot.show()\n",
    "    init_feature += max_feature\n",
    "    max_feature += max_feature"
   ]
  },
  {
   "cell_type": "markdown",
   "metadata": {
    "papermill": {
     "duration": 0.041032,
     "end_time": "2021-02-19T20:15:57.967981",
     "exception": false,
     "start_time": "2021-02-19T20:15:57.926949",
     "status": "completed"
    },
    "tags": []
   },
   "source": [
    "**Nota**. Aparentemente, após as primeiras 1500 palavras o modelo não extrai informações úteis dos documentos para a sua classificação."
   ]
  },
  {
   "cell_type": "code",
   "execution_count": null,
   "metadata": {
    "papermill": {
     "duration": 0.040261,
     "end_time": "2021-02-19T20:15:58.048875",
     "exception": false,
     "start_time": "2021-02-19T20:15:58.008614",
     "status": "completed"
    },
    "tags": []
   },
   "outputs": [],
   "source": []
  }
 ],
 "metadata": {
  "kernelspec": {
   "display_name": "Python 3",
   "language": "python",
   "name": "python3"
  },
  "language_info": {
   "codemirror_mode": {
    "name": "ipython",
    "version": 3
   },
   "file_extension": ".py",
   "mimetype": "text/x-python",
   "name": "python",
   "nbconvert_exporter": "python",
   "pygments_lexer": "ipython3",
   "version": "3.7.9"
  },
  "papermill": {
   "default_parameters": {},
   "duration": 31.569545,
   "end_time": "2021-02-19T20:15:59.504965",
   "environment_variables": {},
   "exception": null,
   "input_path": "__notebook__.ipynb",
   "output_path": "__notebook__.ipynb",
   "parameters": {},
   "start_time": "2021-02-19T20:15:27.935420",
   "version": "2.2.2"
  }
 },
 "nbformat": 4,
 "nbformat_minor": 4
}
