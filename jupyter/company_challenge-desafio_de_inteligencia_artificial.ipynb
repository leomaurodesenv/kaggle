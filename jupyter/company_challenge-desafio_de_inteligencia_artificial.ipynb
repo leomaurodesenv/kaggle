{
  "nbformat": 4,
  "nbformat_minor": 0,
  "metadata": {
    "colab": {
      "name": "Company Challenge - Desafio de Inteligência Artificial.ipynb",
      "provenance": [],
      "authorship_tag": "ABX9TyPbsGh1stdOY6mNmoUgZ2d6",
      "include_colab_link": true
    },
    "kernelspec": {
      "name": "python3",
      "display_name": "Python 3"
    },
    "language_info": {
      "name": "python"
    }
  },
  "cells": [
    {
      "cell_type": "markdown",
      "metadata": {
        "id": "view-in-github",
        "colab_type": "text"
      },
      "source": [
        "<a href=\"https://colab.research.google.com/github/leomaurodesenv/kaggle/blob/main/jupyter/company_challenge-desafio_de_inteligencia_artificial.ipynb\" target=\"_parent\"><img src=\"https://colab.research.google.com/assets/colab-badge.svg\" alt=\"Open In Colab\"/></a>"
      ]
    },
    {
      "cell_type": "markdown",
      "source": [
        "# Company Challenge\n",
        "**Código**: leomaurodesenv <leo.mauro.desenv@gmail.com>\n",
        "\n",
        "A \\<empresa\\> tem o objetivo de desburocratizar os serviços cartorários para nossos clientes B2B, realizando a busca, gestão e pré-análise dos documentos, assim reduzindo o tempo de entrega e acompanhando o andamento de seu pedido através do nosso produto."
      ],
      "metadata": {
        "id": "ZCcBTOLzSkHO"
      }
    },
    {
      "cell_type": "markdown",
      "source": [
        "## Desafio\n",
        "\n",
        "Atualmente, nossos clientes solicitam ou nos enviam vários tipos de documentos. A partir desses documentos, extraímos e selecionamos diversas informações importantes para eles. Para que essas informações sejam corretamente extraídas, um processo automático de classificação do tipo de documento é necessário.\n",
        "\n",
        "O desafio é a classificação de pelo menos os documentos RG e CPF, usando suas imagens, através de aprendizagem de máquina (machine learning)."
      ],
      "metadata": {
        "id": "aVUdHbCoSpSu"
      }
    },
    {
      "cell_type": "markdown",
      "source": [
        "# Coleta e Produção do Dataset"
      ],
      "metadata": {
        "id": "O_4ZB2ldVvzp"
      }
    },
    {
      "cell_type": "code",
      "source": [
        "%%capture\n",
        "!pip install gdown"
      ],
      "metadata": {
        "colab": {
          "base_uri": "https://localhost:8080/"
        },
        "id": "gFdWdizMVer8",
        "outputId": "531b6a66-d068-4895-a274-e6ec34d41843"
      },
      "execution_count": 1,
      "outputs": [
        {
          "output_type": "stream",
          "name": "stdout",
          "text": [
            "Looking in indexes: https://pypi.org/simple, https://us-python.pkg.dev/colab-wheels/public/simple/\n",
            "Requirement already satisfied: gdown in /usr/local/lib/python3.7/dist-packages (4.4.0)\n",
            "Requirement already satisfied: filelock in /usr/local/lib/python3.7/dist-packages (from gdown) (3.8.0)\n",
            "Requirement already satisfied: tqdm in /usr/local/lib/python3.7/dist-packages (from gdown) (4.64.0)\n",
            "Requirement already satisfied: six in /usr/local/lib/python3.7/dist-packages (from gdown) (1.15.0)\n",
            "Requirement already satisfied: beautifulsoup4 in /usr/local/lib/python3.7/dist-packages (from gdown) (4.6.3)\n",
            "Requirement already satisfied: requests[socks] in /usr/local/lib/python3.7/dist-packages (from gdown) (2.23.0)\n",
            "Requirement already satisfied: chardet<4,>=3.0.2 in /usr/local/lib/python3.7/dist-packages (from requests[socks]->gdown) (3.0.4)\n",
            "Requirement already satisfied: idna<3,>=2.5 in /usr/local/lib/python3.7/dist-packages (from requests[socks]->gdown) (2.10)\n",
            "Requirement already satisfied: certifi>=2017.4.17 in /usr/local/lib/python3.7/dist-packages (from requests[socks]->gdown) (2022.6.15)\n",
            "Requirement already satisfied: urllib3!=1.25.0,!=1.25.1,<1.26,>=1.21.1 in /usr/local/lib/python3.7/dist-packages (from requests[socks]->gdown) (1.24.3)\n",
            "Requirement already satisfied: PySocks!=1.5.7,>=1.5.6 in /usr/local/lib/python3.7/dist-packages (from requests[socks]->gdown) (1.7.1)\n"
          ]
        }
      ]
    },
    {
      "cell_type": "code",
      "source": [
        "# full dataset\n",
        "# !gdown 1Oi88TRcpdjZmJ79WDLb9qFlBNG8q2De6"
      ],
      "metadata": {
        "id": "mWSpWu5QVmTY"
      },
      "execution_count": null,
      "outputs": []
    },
    {
      "cell_type": "code",
      "source": [
        "# sample dataset\n",
        "!gdown 144EqqmMtCziua9iYo-3afUEvZrJVxUXU"
      ],
      "metadata": {
        "colab": {
          "base_uri": "https://localhost:8080/"
        },
        "id": "WfFzrzvYZsPt",
        "outputId": "fcc3d122-3e55-4ab9-8fb2-5c6c238130b4"
      },
      "execution_count": 4,
      "outputs": [
        {
          "output_type": "stream",
          "name": "stdout",
          "text": [
            "Downloading...\n",
            "From: https://drive.google.com/uc?id=144EqqmMtCziua9iYo-3afUEvZrJVxUXU\n",
            "To: /content/BID Sample Dataset.zip\n",
            "100% 71.1M/71.1M [00:00<00:00, 166MB/s]\n"
          ]
        }
      ]
    },
    {
      "cell_type": "code",
      "source": [
        ""
      ],
      "metadata": {
        "id": "sBKFri3EZw57"
      },
      "execution_count": null,
      "outputs": []
    }
  ]
}