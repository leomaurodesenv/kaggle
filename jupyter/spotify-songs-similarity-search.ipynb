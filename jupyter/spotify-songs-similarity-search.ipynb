{
 "cells": [
  {
   "cell_type": "markdown",
   "metadata": {
    "papermill": {
     "duration": 0.018247,
     "end_time": "2020-12-07T00:32:42.639460",
     "exception": false,
     "start_time": "2020-12-07T00:32:42.621213",
     "status": "completed"
    },
    "tags": []
   },
   "source": [
    "# Spotify Songs Study - Similarity\n",
    "\n",
    "## Introduction\n",
    "\n",
    "Have you ever asked yourself how we can recommend songs music based on your taste? **Similarity** is the answer.\n",
    "Similarity measures how much two objects have similar shapes, values, or distances.\n",
    "Thus, we can use similarity to measure similar songs and create a fine recommentation for the users based on previously listened songs.\n",
    "\n",
    "Dataset: [Spotify Song Attributes](https://www.kaggle.com/geomack/spotifyclassification) - An attempt to build a classifier that can predict whether or not I like a song.\n",
    "\n",
    "**Disclaimer**: This is a simple study case of similarity. There are many state-of-art algorithms for song recommendation. Anyway, this notebook can be used as a first step for this study, and also a base test algorithm for your experiments."
   ]
  },
  {
   "cell_type": "markdown",
   "metadata": {
    "papermill": {
     "duration": 0.014836,
     "end_time": "2020-12-07T00:32:42.670827",
     "exception": false,
     "start_time": "2020-12-07T00:32:42.655991",
     "status": "completed"
    },
    "tags": []
   },
   "source": [
    "## Pre Definitions\n",
    "\n",
    "Import packages, and create useful functions (code hidden)."
   ]
  },
  {
   "cell_type": "code",
   "execution_count": 1,
   "metadata": {
    "_kg_hide-output": true,
    "collapsed": true,
    "execution": {
     "iopub.execute_input": "2020-12-07T00:32:42.708100Z",
     "iopub.status.busy": "2020-12-07T00:32:42.707398Z",
     "iopub.status.idle": "2020-12-07T00:32:52.445658Z",
     "shell.execute_reply": "2020-12-07T00:32:52.446128Z"
    },
    "papermill": {
     "duration": 9.760369,
     "end_time": "2020-12-07T00:32:52.446331",
     "exception": false,
     "start_time": "2020-12-07T00:32:42.685962",
     "status": "completed"
    },
    "tags": []
   },
   "outputs": [
    {
     "name": "stdout",
     "output_type": "stream",
     "text": [
      "Collecting youtube-search-python==1.3.1\r\n",
      "  Downloading youtube_search_python-1.3.1-py3-none-any.whl (11 kB)\r\n",
      "Installing collected packages: youtube-search-python\r\n",
      "Successfully installed youtube-search-python-1.3.1\r\n",
      "\u001b[33mWARNING: You are using pip version 20.2.4; however, version 20.3.1 is available.\r\n",
      "You should consider upgrading via the '/opt/conda/bin/python3.7 -m pip install --upgrade pip' command.\u001b[0m\r\n"
     ]
    }
   ],
   "source": [
    "# Installing youtube tool\n",
    "!pip install youtube-search-python=='1.3.1'"
   ]
  },
  {
   "cell_type": "code",
   "execution_count": 2,
   "metadata": {
    "_cell_guid": "b1076dfc-b9ad-4769-8c92-a6c4dae69d19",
    "_uuid": "8f2839f25d086af736a60e9eeb907d3b93b6e0e5",
    "execution": {
     "iopub.execute_input": "2020-12-07T00:32:52.487177Z",
     "iopub.status.busy": "2020-12-07T00:32:52.486474Z",
     "iopub.status.idle": "2020-12-07T00:32:52.494152Z",
     "shell.execute_reply": "2020-12-07T00:32:52.493473Z"
    },
    "papermill": {
     "duration": 0.030307,
     "end_time": "2020-12-07T00:32:52.494268",
     "exception": false,
     "start_time": "2020-12-07T00:32:52.463961",
     "status": "completed"
    },
    "tags": []
   },
   "outputs": [],
   "source": [
    "# Import the needs\n",
    "import numpy as np # linear algebra\n",
    "import pandas as pd # data processing\n",
    "\n",
    "import json\n",
    "from youtubesearchpython import SearchVideos # YouTube search tool"
   ]
  },
  {
   "cell_type": "code",
   "execution_count": 3,
   "metadata": {
    "_kg_hide-input": true,
    "_kg_hide-output": true,
    "execution": {
     "iopub.execute_input": "2020-12-07T00:32:52.536065Z",
     "iopub.status.busy": "2020-12-07T00:32:52.535363Z",
     "iopub.status.idle": "2020-12-07T00:32:52.538037Z",
     "shell.execute_reply": "2020-12-07T00:32:52.538514Z"
    },
    "papermill": {
     "duration": 0.027282,
     "end_time": "2020-12-07T00:32:52.538689",
     "exception": false,
     "start_time": "2020-12-07T00:32:52.511407",
     "status": "completed"
    },
    "tags": []
   },
   "outputs": [],
   "source": [
    "# Get a Song str search\n",
    "def getMusicName(elem):\n",
    "    return '{} - {}'.format(elem['artist'], elem['song_title'])\n",
    "\n",
    "\n",
    "# Function to search a YouTube Video\n",
    "def youtubeSearchVideo(music, results=1):\n",
    "    searchJson = SearchVideos(music, offset=1, mode=\"json\", max_results=results).result()\n",
    "    searchParsed = json.loads(searchJson)\n",
    "    searchParsed = searchParsed['search_result'][0]\n",
    "    return {'title': searchParsed['title'], \\\n",
    "            'duration': searchParsed['duration'], \\\n",
    "            'views': searchParsed['views'], \\\n",
    "            'url': searchParsed['link'] }"
   ]
  },
  {
   "cell_type": "markdown",
   "metadata": {
    "papermill": {
     "duration": 0.016875,
     "end_time": "2020-12-07T00:32:52.572919",
     "exception": false,
     "start_time": "2020-12-07T00:32:52.556044",
     "status": "completed"
    },
    "tags": []
   },
   "source": [
    "## Loading data\n",
    "\n",
    "How many songs do we have?"
   ]
  },
  {
   "cell_type": "code",
   "execution_count": 4,
   "metadata": {
    "execution": {
     "iopub.execute_input": "2020-12-07T00:32:52.621850Z",
     "iopub.status.busy": "2020-12-07T00:32:52.621143Z",
     "iopub.status.idle": "2020-12-07T00:32:52.675025Z",
     "shell.execute_reply": "2020-12-07T00:32:52.675694Z"
    },
    "papermill": {
     "duration": 0.085985,
     "end_time": "2020-12-07T00:32:52.675856",
     "exception": false,
     "start_time": "2020-12-07T00:32:52.589871",
     "status": "completed"
    },
    "tags": []
   },
   "outputs": [
    {
     "name": "stdout",
     "output_type": "stream",
     "text": [
      "Number of songs: 2017\n",
      "Number of attributes per song: 16\n"
     ]
    }
   ],
   "source": [
    "# Load dataset\n",
    "dfSongs = pd.read_csv('/kaggle/input/spotifyclassification/data.csv', index_col=0)\n",
    "\n",
    "# Number of rows and columns\n",
    "rows, cols = dfSongs.shape\n",
    "print('Number of songs: {}'.format(rows))\n",
    "print('Number of attributes per song: {}'.format(cols))"
   ]
  },
  {
   "cell_type": "markdown",
   "metadata": {
    "papermill": {
     "duration": 0.017071,
     "end_time": "2020-12-07T00:32:52.710521",
     "exception": false,
     "start_time": "2020-12-07T00:32:52.693450",
     "status": "completed"
    },
    "tags": []
   },
   "source": [
    "What are the song attributes?"
   ]
  },
  {
   "cell_type": "code",
   "execution_count": 5,
   "metadata": {
    "execution": {
     "iopub.execute_input": "2020-12-07T00:32:52.753210Z",
     "iopub.status.busy": "2020-12-07T00:32:52.752332Z",
     "iopub.status.idle": "2020-12-07T00:32:52.756486Z",
     "shell.execute_reply": "2020-12-07T00:32:52.755670Z"
    },
    "papermill": {
     "duration": 0.028631,
     "end_time": "2020-12-07T00:32:52.756649",
     "exception": false,
     "start_time": "2020-12-07T00:32:52.728018",
     "status": "completed"
    },
    "tags": []
   },
   "outputs": [
    {
     "data": {
      "text/plain": [
       "Index(['acousticness', 'danceability', 'duration_ms', 'energy',\n",
       "       'instrumentalness', 'key', 'liveness', 'loudness', 'mode',\n",
       "       'speechiness', 'tempo', 'time_signature', 'valence', 'target',\n",
       "       'song_title', 'artist'],\n",
       "      dtype='object')"
      ]
     },
     "metadata": {},
     "output_type": "display_data"
    }
   ],
   "source": [
    "# Print the columns\n",
    "display(dfSongs.columns)"
   ]
  },
  {
   "cell_type": "code",
   "execution_count": 6,
   "metadata": {
    "_cell_guid": "79c7e3d0-c299-4dcb-8224-4455121ee9b0",
    "_uuid": "d629ff2d2480ee46fbb7e2d37f6b5fab8052498a",
    "execution": {
     "iopub.execute_input": "2020-12-07T00:32:52.810077Z",
     "iopub.status.busy": "2020-12-07T00:32:52.809231Z",
     "iopub.status.idle": "2020-12-07T00:32:52.812884Z",
     "shell.execute_reply": "2020-12-07T00:32:52.813624Z"
    },
    "papermill": {
     "duration": 0.038357,
     "end_time": "2020-12-07T00:32:52.813819",
     "exception": false,
     "start_time": "2020-12-07T00:32:52.775462",
     "status": "completed"
    },
    "tags": []
   },
   "outputs": [
    {
     "name": "stdout",
     "output_type": "stream",
     "text": [
      "<class 'pandas.core.frame.DataFrame'>\n",
      "Int64Index: 2017 entries, 0 to 2016\n",
      "Data columns (total 16 columns):\n",
      " #   Column            Non-Null Count  Dtype  \n",
      "---  ------            --------------  -----  \n",
      " 0   acousticness      2017 non-null   float64\n",
      " 1   danceability      2017 non-null   float64\n",
      " 2   duration_ms       2017 non-null   int64  \n",
      " 3   energy            2017 non-null   float64\n",
      " 4   instrumentalness  2017 non-null   float64\n",
      " 5   key               2017 non-null   int64  \n",
      " 6   liveness          2017 non-null   float64\n",
      " 7   loudness          2017 non-null   float64\n",
      " 8   mode              2017 non-null   int64  \n",
      " 9   speechiness       2017 non-null   float64\n",
      " 10  tempo             2017 non-null   float64\n",
      " 11  time_signature    2017 non-null   float64\n",
      " 12  valence           2017 non-null   float64\n",
      " 13  target            2017 non-null   int64  \n",
      " 14  song_title        2017 non-null   object \n",
      " 15  artist            2017 non-null   object \n",
      "dtypes: float64(10), int64(4), object(2)\n",
      "memory usage: 267.9+ KB\n"
     ]
    }
   ],
   "source": [
    "# Print the attributes type\n",
    "dfSongs.info()"
   ]
  },
  {
   "cell_type": "markdown",
   "metadata": {
    "papermill": {
     "duration": 0.017663,
     "end_time": "2020-12-07T00:32:52.851495",
     "exception": false,
     "start_time": "2020-12-07T00:32:52.833832",
     "status": "completed"
    },
    "tags": []
   },
   "source": [
    "Printing the first rows."
   ]
  },
  {
   "cell_type": "code",
   "execution_count": 7,
   "metadata": {
    "execution": {
     "iopub.execute_input": "2020-12-07T00:32:52.900330Z",
     "iopub.status.busy": "2020-12-07T00:32:52.899699Z",
     "iopub.status.idle": "2020-12-07T00:32:52.911957Z",
     "shell.execute_reply": "2020-12-07T00:32:52.911311Z"
    },
    "papermill": {
     "duration": 0.042305,
     "end_time": "2020-12-07T00:32:52.912069",
     "exception": false,
     "start_time": "2020-12-07T00:32:52.869764",
     "status": "completed"
    },
    "tags": []
   },
   "outputs": [
    {
     "data": {
      "text/html": [
       "<div>\n",
       "<style scoped>\n",
       "    .dataframe tbody tr th:only-of-type {\n",
       "        vertical-align: middle;\n",
       "    }\n",
       "\n",
       "    .dataframe tbody tr th {\n",
       "        vertical-align: top;\n",
       "    }\n",
       "\n",
       "    .dataframe thead th {\n",
       "        text-align: right;\n",
       "    }\n",
       "</style>\n",
       "<table border=\"1\" class=\"dataframe\">\n",
       "  <thead>\n",
       "    <tr style=\"text-align: right;\">\n",
       "      <th></th>\n",
       "      <th>song_title</th>\n",
       "      <th>artist</th>\n",
       "    </tr>\n",
       "  </thead>\n",
       "  <tbody>\n",
       "    <tr>\n",
       "      <th>0</th>\n",
       "      <td>Mask Off</td>\n",
       "      <td>Future</td>\n",
       "    </tr>\n",
       "    <tr>\n",
       "      <th>1</th>\n",
       "      <td>Redbone</td>\n",
       "      <td>Childish Gambino</td>\n",
       "    </tr>\n",
       "    <tr>\n",
       "      <th>2</th>\n",
       "      <td>Xanny Family</td>\n",
       "      <td>Future</td>\n",
       "    </tr>\n",
       "    <tr>\n",
       "      <th>3</th>\n",
       "      <td>Master Of None</td>\n",
       "      <td>Beach House</td>\n",
       "    </tr>\n",
       "    <tr>\n",
       "      <th>4</th>\n",
       "      <td>Parallel Lines</td>\n",
       "      <td>Junior Boys</td>\n",
       "    </tr>\n",
       "  </tbody>\n",
       "</table>\n",
       "</div>"
      ],
      "text/plain": [
       "       song_title            artist\n",
       "0        Mask Off            Future\n",
       "1         Redbone  Childish Gambino\n",
       "2    Xanny Family            Future\n",
       "3  Master Of None       Beach House\n",
       "4  Parallel Lines       Junior Boys"
      ]
     },
     "execution_count": 7,
     "metadata": {},
     "output_type": "execute_result"
    }
   ],
   "source": [
    "dfSongs[['song_title', 'artist']].head(5)"
   ]
  },
  {
   "cell_type": "markdown",
   "metadata": {
    "papermill": {
     "duration": 0.018281,
     "end_time": "2020-12-07T00:32:52.949215",
     "exception": false,
     "start_time": "2020-12-07T00:32:52.930934",
     "status": "completed"
    },
    "tags": []
   },
   "source": [
    "Searching some video, for example."
   ]
  },
  {
   "cell_type": "code",
   "execution_count": 8,
   "metadata": {
    "execution": {
     "iopub.execute_input": "2020-12-07T00:32:52.994948Z",
     "iopub.status.busy": "2020-12-07T00:32:52.992670Z",
     "iopub.status.idle": "2020-12-07T00:32:53.505343Z",
     "shell.execute_reply": "2020-12-07T00:32:53.504705Z"
    },
    "papermill": {
     "duration": 0.537582,
     "end_time": "2020-12-07T00:32:53.505467",
     "exception": false,
     "start_time": "2020-12-07T00:32:52.967885",
     "status": "completed"
    },
    "tags": []
   },
   "outputs": [
    {
     "name": "stdout",
     "output_type": "stream",
     "text": [
      "name: Future - Mask Off\n"
     ]
    },
    {
     "data": {
      "text/plain": [
       "{'title': 'Future - Mask Off (Official Music Video)',\n",
       " 'duration': '4:50',\n",
       " 'views': 441952777,\n",
       " 'url': 'https://www.youtube.com/watch?v=xvZqHgFz51I'}"
      ]
     },
     "execution_count": 8,
     "metadata": {},
     "output_type": "execute_result"
    }
   ],
   "source": [
    "# Select a song\n",
    "anySong = dfSongs.loc[0]\n",
    "# Get the song name\n",
    "anySongName = getMusicName(anySong)\n",
    "print('name:', anySongName)\n",
    "\n",
    "# Search in YouTube\n",
    "youtubeSearchVideo(anySongName)"
   ]
  },
  {
   "cell_type": "markdown",
   "metadata": {
    "papermill": {
     "duration": 0.019417,
     "end_time": "2020-12-07T00:32:53.544668",
     "exception": false,
     "start_time": "2020-12-07T00:32:53.525251",
     "status": "completed"
    },
    "tags": []
   },
   "source": [
    "## Similarity Queries\n",
    "\n",
    "We created queries to retrive the elements more similar based on [Euclidean distance](https://en.wikipedia.org/wiki/Euclidean_distance).\n",
    "\"In mathematics, the Euclidean distance between two points is a number, the length of a line segment between the two points.\"\n",
    "In this sense, the distance the closer to 0 the more similar the songs are."
   ]
  },
  {
   "cell_type": "markdown",
   "metadata": {
    "papermill": {
     "duration": 0.019404,
     "end_time": "2020-12-07T00:32:53.583714",
     "exception": false,
     "start_time": "2020-12-07T00:32:53.564310",
     "status": "completed"
    },
    "tags": []
   },
   "source": [
    "### k-nearest neighbors algorithm (k-NN)\n",
    "\n",
    "The [k-NN algoritm](https://en.wikipedia.org/wiki/K-nearest_neighbors_algorithm) searches for the $k$ similar elements based on a query point at the center; or a threshold distance limit based on a query point, which is in a pre defined radius. Thus, we have two kinds of k-NN:\n",
    "\n",
    "* $k$ query: return $k$ closest songs.\n",
    "* Range query: return all songs with 'distance' $\\leq$ 'threshold'."
   ]
  },
  {
   "cell_type": "code",
   "execution_count": 9,
   "metadata": {
    "_kg_hide-input": true,
    "_kg_hide-output": true,
    "execution": {
     "iopub.execute_input": "2020-12-07T00:32:53.632248Z",
     "iopub.status.busy": "2020-12-07T00:32:53.631270Z",
     "iopub.status.idle": "2020-12-07T00:32:53.634826Z",
     "shell.execute_reply": "2020-12-07T00:32:53.633962Z"
    },
    "papermill": {
     "duration": 0.031764,
     "end_time": "2020-12-07T00:32:53.634968",
     "exception": false,
     "start_time": "2020-12-07T00:32:53.603204",
     "status": "completed"
    },
    "tags": []
   },
   "outputs": [],
   "source": [
    "# K-query\n",
    "def knnQuery(queryPoint, arrCharactPoints, k):\n",
    "    tmp = arrCharactPoints.copy(deep=True)\n",
    "    tmp['dist'] = tmp.apply(lambda x: np.linalg.norm(x-queryPoint), axis=1)\n",
    "    tmp = tmp.sort_values('dist')\n",
    "    return tmp.head(k).index\n",
    "\n",
    "# Range query\n",
    "def rangeQuery(queryPoint, arrCharactPoints, radius):\n",
    "    tmp = arrCharactPoints.copy(deep=True)\n",
    "    tmp['dist'] = tmp.apply(lambda x: np.linalg.norm(x-queryPoint), axis=1)\n",
    "    tmp['radius'] = tmp.apply(lambda x: 1 if x['dist'] <= radius else 0, axis=1)\n",
    "    return tmp.query('radius == 1').index"
   ]
  },
  {
   "cell_type": "code",
   "execution_count": 10,
   "metadata": {
    "_kg_hide-input": true,
    "_kg_hide-output": true,
    "execution": {
     "iopub.execute_input": "2020-12-07T00:32:53.684992Z",
     "iopub.status.busy": "2020-12-07T00:32:53.684222Z",
     "iopub.status.idle": "2020-12-07T00:32:53.686943Z",
     "shell.execute_reply": "2020-12-07T00:32:53.687382Z"
    },
    "papermill": {
     "duration": 0.028752,
     "end_time": "2020-12-07T00:32:53.687540",
     "exception": false,
     "start_time": "2020-12-07T00:32:53.658788",
     "status": "completed"
    },
    "tags": []
   },
   "outputs": [],
   "source": [
    "# Execute k-NN removing the 'query point'\n",
    "def querySimilars(df, columns, idx, func, param):\n",
    "    arr = df[columns].copy(deep=True)\n",
    "    queryPoint = arr.loc[idx]\n",
    "    arr = arr.drop([idx])\n",
    "    response = func(queryPoint, arr, param)\n",
    "    return response"
   ]
  },
  {
   "cell_type": "markdown",
   "metadata": {
    "papermill": {
     "duration": 0.019494,
     "end_time": "2020-12-07T00:32:53.726932",
     "exception": false,
     "start_time": "2020-12-07T00:32:53.707438",
     "status": "completed"
    },
    "tags": []
   },
   "source": [
    "#### $k$ query\n",
    "\n",
    "Trying a query using `knnQuery`.\n",
    "\n",
    "For example, let's search for $k=3$ similar songs to a query point `songIndex=5` (music: `\"Drake - Sneakin\"`)."
   ]
  },
  {
   "cell_type": "code",
   "execution_count": 11,
   "metadata": {
    "execution": {
     "iopub.execute_input": "2020-12-07T00:32:53.776671Z",
     "iopub.status.busy": "2020-12-07T00:32:53.775978Z",
     "iopub.status.idle": "2020-12-07T00:32:54.141671Z",
     "shell.execute_reply": "2020-12-07T00:32:54.141131Z"
    },
    "papermill": {
     "duration": 0.395059,
     "end_time": "2020-12-07T00:32:54.141796",
     "exception": false,
     "start_time": "2020-12-07T00:32:53.746737",
     "status": "completed"
    },
    "tags": []
   },
   "outputs": [],
   "source": [
    "# Selecting song and attributes\n",
    "songIndex = 5 # query point, selected song\n",
    "columns = ['acousticness','danceability','energy','instrumentalness','liveness','speechiness','valence']\n",
    "\n",
    "# Selecting query parameters\n",
    "func, param = knnQuery, 3 # k=3\n",
    "\n",
    "# Querying\n",
    "response = querySimilars(dfSongs, columns, songIndex, func, param)"
   ]
  },
  {
   "cell_type": "code",
   "execution_count": 12,
   "metadata": {
    "execution": {
     "iopub.execute_input": "2020-12-07T00:32:54.196156Z",
     "iopub.status.busy": "2020-12-07T00:32:54.195371Z",
     "iopub.status.idle": "2020-12-07T00:32:54.620536Z",
     "shell.execute_reply": "2020-12-07T00:32:54.621052Z"
    },
    "papermill": {
     "duration": 0.458877,
     "end_time": "2020-12-07T00:32:54.621209",
     "exception": false,
     "start_time": "2020-12-07T00:32:54.162332",
     "status": "completed"
    },
    "tags": []
   },
   "outputs": [
    {
     "name": "stdout",
     "output_type": "stream",
     "text": [
      "# Query Point\n",
      "5 Drake - Sneakin’\n",
      "https://www.youtube.com/watch?v=YlxMgXacV-A\n"
     ]
    }
   ],
   "source": [
    "# Select a song\n",
    "anySong = dfSongs.loc[songIndex]\n",
    "# Get the song name\n",
    "anySongName = getMusicName(anySong)\n",
    "# Retrive a YouTube link\n",
    "youtube = youtubeSearchVideo(anySongName)\n",
    "\n",
    "# Print\n",
    "print('# Query Point')\n",
    "print(songIndex, anySongName)\n",
    "print(youtube['url'])"
   ]
  },
  {
   "cell_type": "code",
   "execution_count": 13,
   "metadata": {
    "execution": {
     "iopub.execute_input": "2020-12-07T00:32:54.678395Z",
     "iopub.status.busy": "2020-12-07T00:32:54.677743Z",
     "iopub.status.idle": "2020-12-07T00:32:56.113331Z",
     "shell.execute_reply": "2020-12-07T00:32:56.112685Z"
    },
    "papermill": {
     "duration": 1.470325,
     "end_time": "2020-12-07T00:32:56.113449",
     "exception": false,
     "start_time": "2020-12-07T00:32:54.643124",
     "status": "completed"
    },
    "tags": []
   },
   "outputs": [
    {
     "name": "stdout",
     "output_type": "stream",
     "text": [
      "# Similar songs\n",
      "732 Tyga - Dope\n",
      "https://www.youtube.com/watch?v=q9xpsmDXy48\n",
      "6 Drake - Childs Play\n",
      "https://www.youtube.com/watch?v=2F2GlWMb_l4\n",
      "799 Pete Wingfield - 18 With A Bullet\n",
      "https://www.youtube.com/watch?v=3toBfCJt67w\n"
     ]
    }
   ],
   "source": [
    "print('# Similar songs')\n",
    "for idx in response:\n",
    "    anySong = dfSongs.loc[idx]\n",
    "    anySongName = getMusicName(anySong)\n",
    "    youtube = youtubeSearchVideo(anySongName)\n",
    "    \n",
    "    print(idx, anySongName)\n",
    "    print(youtube['url'])"
   ]
  },
  {
   "cell_type": "markdown",
   "metadata": {
    "papermill": {
     "duration": 0.021741,
     "end_time": "2020-12-07T00:32:56.157046",
     "exception": false,
     "start_time": "2020-12-07T00:32:56.135305",
     "status": "completed"
    },
    "tags": []
   },
   "source": [
    "#### Range query\n",
    "\n",
    "Trying a query using `rangeQuery`.\n",
    "\n",
    "For example, let's search similar songs using $dist \\leq 0.15$, and query point `songIndex=10` (music: `\"The Avalanches - Subways - In Flagranti Extended Edit\"`)."
   ]
  },
  {
   "cell_type": "code",
   "execution_count": 14,
   "metadata": {
    "execution": {
     "iopub.execute_input": "2020-12-07T00:32:56.593214Z",
     "iopub.status.busy": "2020-12-07T00:32:56.284710Z",
     "iopub.status.idle": "2020-12-07T00:32:56.705965Z",
     "shell.execute_reply": "2020-12-07T00:32:56.705266Z"
    },
    "papermill": {
     "duration": 0.527602,
     "end_time": "2020-12-07T00:32:56.706126",
     "exception": false,
     "start_time": "2020-12-07T00:32:56.178524",
     "status": "completed"
    },
    "tags": []
   },
   "outputs": [],
   "source": [
    "# Selecting song and attributes\n",
    "songIndex = 10 # query point, selected song\n",
    "columns = ['acousticness','danceability','energy','instrumentalness','liveness','speechiness','valence']\n",
    "\n",
    "# Selecting query parameters\n",
    "func, param = rangeQuery, 0.15 # threshold distance\n",
    "\n",
    "# Querying\n",
    "response = querySimilars(dfSongs, columns, songIndex, func, param)"
   ]
  },
  {
   "cell_type": "code",
   "execution_count": 15,
   "metadata": {
    "execution": {
     "iopub.execute_input": "2020-12-07T00:32:56.790655Z",
     "iopub.status.busy": "2020-12-07T00:32:56.789482Z",
     "iopub.status.idle": "2020-12-07T00:32:57.302362Z",
     "shell.execute_reply": "2020-12-07T00:32:57.303213Z"
    },
    "papermill": {
     "duration": 0.562048,
     "end_time": "2020-12-07T00:32:57.303388",
     "exception": false,
     "start_time": "2020-12-07T00:32:56.741340",
     "status": "completed"
    },
    "tags": []
   },
   "outputs": [
    {
     "name": "stdout",
     "output_type": "stream",
     "text": [
      "# Query Point\n",
      "10 The Avalanches - Subways - In Flagranti Extended Edit\n",
      "https://www.youtube.com/watch?v=ZcT0Q2tRnvs\n"
     ]
    }
   ],
   "source": [
    "# Select a song\n",
    "anySong = dfSongs.loc[songIndex]\n",
    "# Get the song name\n",
    "anySongName = getMusicName(anySong)\n",
    "# Retrive a YouTube link\n",
    "youtube = youtubeSearchVideo(anySongName)\n",
    "\n",
    "# Print\n",
    "print('# Query Point')\n",
    "print(songIndex, anySongName)\n",
    "print(youtube['url'])"
   ]
  },
  {
   "cell_type": "code",
   "execution_count": 16,
   "metadata": {
    "execution": {
     "iopub.execute_input": "2020-12-07T00:32:57.363153Z",
     "iopub.status.busy": "2020-12-07T00:32:57.356066Z",
     "iopub.status.idle": "2020-12-07T00:32:59.747261Z",
     "shell.execute_reply": "2020-12-07T00:32:59.746698Z"
    },
    "papermill": {
     "duration": 2.419716,
     "end_time": "2020-12-07T00:32:59.747385",
     "exception": false,
     "start_time": "2020-12-07T00:32:57.327669",
     "status": "completed"
    },
    "tags": []
   },
   "outputs": [
    {
     "name": "stdout",
     "output_type": "stream",
     "text": [
      "# Similar songs\n",
      "1132 Fall Out Boy - Immortals\n",
      "https://www.youtube.com/watch?v=l9PxOanFjxQ\n",
      "1279 Britt Nicole - Be The Change\n",
      "https://www.youtube.com/watch?v=wLikOq_ESr8\n",
      "1426 Rick Ross - Game Ain't Based On Sympathy\n",
      "https://www.youtube.com/watch?v=lws_tnf5DjE\n",
      "1676 Bassnectar - Mind Tricks\n",
      "https://www.youtube.com/watch?v=Xmj1lfvLKMQ\n",
      "1842 Natalie Imbruglia - Torn\n",
      "https://www.youtube.com/watch?v=VV1XWJN3nJo\n"
     ]
    }
   ],
   "source": [
    "print('# Similar songs')\n",
    "for idx in response:\n",
    "    anySong = dfSongs.loc[idx]\n",
    "    anySongName = getMusicName(anySong)\n",
    "    youtube = youtubeSearchVideo(anySongName)\n",
    "    \n",
    "    print(idx, anySongName)\n",
    "    print(youtube['url'])"
   ]
  },
  {
   "cell_type": "markdown",
   "metadata": {
    "papermill": {
     "duration": 0.02477,
     "end_time": "2020-12-07T00:32:59.796137",
     "exception": false,
     "start_time": "2020-12-07T00:32:59.771367",
     "status": "completed"
    },
    "tags": []
   },
   "source": [
    "### Questions - Study\n",
    "\n",
    "So far, we have been able to make queries searching for similar songs based on distance to a query point, using knnQuery and rangeQuery. In this way, it is possible to find similar songs based on a user's tastes.\n",
    "\n",
    "Anyway, we can also create our own personalized query points and modify the columns to explore other options. For example, query the most cheerful songs, selecting a specific set of song attributes `columns = ['danceability','energy','valence']`; and searching for the $k$ most high values of `'danceability'=1,'energy'=1,'valence'=1`. Thus, **question**: _What are the top 5 active, cheerful songs on our list?_"
   ]
  },
  {
   "cell_type": "code",
   "execution_count": 17,
   "metadata": {
    "execution": {
     "iopub.execute_input": "2020-12-07T00:33:00.360354Z",
     "iopub.status.busy": "2020-12-07T00:33:00.359668Z",
     "iopub.status.idle": "2020-12-07T00:33:02.884868Z",
     "shell.execute_reply": "2020-12-07T00:33:02.885542Z"
    },
    "papermill": {
     "duration": 3.065339,
     "end_time": "2020-12-07T00:33:02.885759",
     "exception": false,
     "start_time": "2020-12-07T00:32:59.820420",
     "status": "completed"
    },
    "tags": []
   },
   "outputs": [
    {
     "name": "stdout",
     "output_type": "stream",
     "text": [
      "# Active, cheerful songs\n",
      "1900 Gwen Stefani - Hollaback Girl\n",
      "https://www.youtube.com/watch?v=Kgjkth6BRRY\n",
      "1586 Imagination Movers - My Favorite Snack\n",
      "https://www.youtube.com/watch?v=tJssLXJhWrc\n",
      "405 Chuck Brown and the Soul Searchers - Bustin' Loose\n",
      "https://www.youtube.com/watch?v=wwHi10qX8u8\n",
      "1967 2 LIVE CREW - Hoochie Mama\n",
      "https://www.youtube.com/watch?v=MEkVI_7eRO4\n",
      "2013 Dillon Francis - Candy\n",
      "https://www.youtube.com/watch?v=ZYPzmsLJ52o\n"
     ]
    }
   ],
   "source": [
    "# Defining the query point and the attributes\n",
    "k = 5\n",
    "queryPoint = [1, 1, 1] # query point\n",
    "columns = ['danceability','energy','valence']\n",
    "\n",
    "# Searching for the songs\n",
    "arr = dfSongs[columns].copy(deep=True)\n",
    "response = knnQuery(queryPoint, arr, k)\n",
    "\n",
    "# Printing\n",
    "print('# Active, cheerful songs')\n",
    "for idx in response:\n",
    "    anySong = dfSongs.loc[idx]\n",
    "    anySongName = getMusicName(anySong)\n",
    "    youtube = youtubeSearchVideo(anySongName)\n",
    "    \n",
    "    print(idx, anySongName)\n",
    "    print(youtube['url'])"
   ]
  },
  {
   "cell_type": "markdown",
   "metadata": {
    "papermill": {
     "duration": 0.025621,
     "end_time": "2020-12-07T00:33:02.937895",
     "exception": false,
     "start_time": "2020-12-07T00:33:02.912274",
     "status": "completed"
    },
    "tags": []
   },
   "source": [
    "We can also change of perspective. In this way, **question**: _What are the top 5 less active or not animated songs on our list?_ We just need to change our query point to values of `'danceability'=0,'energy'=0,'valence'=0`."
   ]
  },
  {
   "cell_type": "code",
   "execution_count": 18,
   "metadata": {
    "execution": {
     "iopub.execute_input": "2020-12-07T00:33:03.028527Z",
     "iopub.status.busy": "2020-12-07T00:33:03.027822Z",
     "iopub.status.idle": "2020-12-07T00:33:05.990186Z",
     "shell.execute_reply": "2020-12-07T00:33:05.991117Z"
    },
    "papermill": {
     "duration": 3.027686,
     "end_time": "2020-12-07T00:33:05.991313",
     "exception": false,
     "start_time": "2020-12-07T00:33:02.963627",
     "status": "completed"
    },
    "tags": []
   },
   "outputs": [
    {
     "name": "stdout",
     "output_type": "stream",
     "text": [
      "# Active, cheerful songs\n",
      "817 Nikolaus Harnoncourt - Mozart: Requiem in D Minor, K. 626: VIII. Lacrimosa\n",
      "https://www.youtube.com/watch?v=PZddaC_gBHE\n",
      "1598 Robert Schumann - Piano Quartet in E flat, Op.47: 3. Andante cantabile\n",
      "https://www.youtube.com/watch?v=u4EDwHCR-PI\n",
      "1600 Carl Philipp Emanuel Bach - Trio Sonata in G Major, Wq. 144: I. Adagio\n",
      "https://www.youtube.com/watch?v=E0zG_j1Duxo\n",
      "1602 Ludwig van Beethoven - String Quintet in C Major, Op. 29: II. Adagio molto espressivo\n",
      "https://www.youtube.com/watch?v=gaOpQ7ZZ1H8\n",
      "1876 Frédéric Chopin - Nocturne No.1 In B Flat Minor, Op.9 No.1\n",
      "https://www.youtube.com/watch?v=ZtIW2r1EalM\n"
     ]
    }
   ],
   "source": [
    "# Defining the query point and the attributes\n",
    "k = 5\n",
    "queryPoint = [0, 0, 0] # query point\n",
    "columns = ['danceability','energy','valence']\n",
    "\n",
    "# Searching for the songs\n",
    "arr = dfSongs[columns].copy(deep=True)\n",
    "response = knnQuery(queryPoint, arr, k)\n",
    "\n",
    "# Printing\n",
    "print('# Active, cheerful songs')\n",
    "for idx in response:\n",
    "    anySong = dfSongs.loc[idx]\n",
    "    anySongName = getMusicName(anySong)\n",
    "    youtube = youtubeSearchVideo(anySongName)\n",
    "    \n",
    "    print(idx, anySongName)\n",
    "    print(youtube['url'])"
   ]
  },
  {
   "cell_type": "code",
   "execution_count": null,
   "metadata": {
    "papermill": {
     "duration": 0.027256,
     "end_time": "2020-12-07T00:33:06.048355",
     "exception": false,
     "start_time": "2020-12-07T00:33:06.021099",
     "status": "completed"
    },
    "tags": []
   },
   "outputs": [],
   "source": []
  }
 ],
 "metadata": {
  "kernelspec": {
   "display_name": "Python 3",
   "language": "python",
   "name": "python3"
  },
  "language_info": {
   "codemirror_mode": {
    "name": "ipython",
    "version": 3
   },
   "file_extension": ".py",
   "mimetype": "text/x-python",
   "name": "python",
   "nbconvert_exporter": "python",
   "pygments_lexer": "ipython3",
   "version": "3.7.6"
  },
  "papermill": {
   "duration": 28.659693,
   "end_time": "2020-12-07T00:33:06.184724",
   "environment_variables": {},
   "exception": null,
   "input_path": "__notebook__.ipynb",
   "output_path": "__notebook__.ipynb",
   "parameters": {},
   "start_time": "2020-12-07T00:32:37.525031",
   "version": "2.1.0"
  }
 },
 "nbformat": 4,
 "nbformat_minor": 4
}
