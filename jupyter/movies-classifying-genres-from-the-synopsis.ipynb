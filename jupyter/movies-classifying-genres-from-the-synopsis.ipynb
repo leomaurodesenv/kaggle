{
 "cells": [
  {
   "cell_type": "markdown",
   "metadata": {
    "papermill": {
     "duration": 0.039822,
     "end_time": "2020-11-27T00:15:43.271957",
     "exception": false,
     "start_time": "2020-11-27T00:15:43.232135",
     "status": "completed"
    },
    "tags": []
   },
   "source": [
    "# Introduction\n",
    "\n",
    "Is it possible to infer a movie category/genre, or a set of categories, based on its synopsis/overview? In this notebook, I will execute an extensive data analysis on over 4.5k movies exploring its categories and overview. Let's try to predict a movie's category based on text - its overview!\n",
    "\n",
    "Dataset: [TMDB 5000 Movie Dataset](https://www.kaggle.com/tmdb/tmdb-movie-metadata?select=tmdb_5000_movies.csv): Metadata on ~5,000 movies from TMDb."
   ]
  },
  {
   "cell_type": "markdown",
   "metadata": {
    "papermill": {
     "duration": 0.0382,
     "end_time": "2020-11-27T00:15:43.348836",
     "exception": false,
     "start_time": "2020-11-27T00:15:43.310636",
     "status": "completed"
    },
    "tags": []
   },
   "source": [
    "# Loading the data\n",
    "\n",
    "- Importing main libraries\n",
    "- Listings files of the dataset\n",
    "- Loading data into a `pandas.DataFrame`"
   ]
  },
  {
   "cell_type": "markdown",
   "metadata": {
    "papermill": {
     "duration": 0.038068,
     "end_time": "2020-11-27T00:15:43.425454",
     "exception": false,
     "start_time": "2020-11-27T00:15:43.387386",
     "status": "completed"
    },
    "tags": []
   },
   "source": [
    "Importing the main libraries."
   ]
  },
  {
   "cell_type": "code",
   "execution_count": 1,
   "metadata": {
    "execution": {
     "iopub.execute_input": "2020-11-27T00:15:43.508330Z",
     "iopub.status.busy": "2020-11-27T00:15:43.507305Z",
     "iopub.status.idle": "2020-11-27T00:15:43.509886Z",
     "shell.execute_reply": "2020-11-27T00:15:43.510528Z"
    },
    "papermill": {
     "duration": 0.046615,
     "end_time": "2020-11-27T00:15:43.510682",
     "exception": false,
     "start_time": "2020-11-27T00:15:43.464067",
     "status": "completed"
    },
    "tags": []
   },
   "outputs": [],
   "source": [
    "import numpy as np # linear algebra\n",
    "import pandas as pd # data processing, CSV file I/O (e.g. pd.read_csv)\n",
    "\n",
    "import matplotlib.pyplot as plt # visualization"
   ]
  },
  {
   "cell_type": "code",
   "execution_count": 2,
   "metadata": {
    "_kg_hide-input": true,
    "execution": {
     "iopub.execute_input": "2020-11-27T00:15:43.636849Z",
     "iopub.status.busy": "2020-11-27T00:15:43.636012Z",
     "iopub.status.idle": "2020-11-27T00:15:43.639573Z",
     "shell.execute_reply": "2020-11-27T00:15:43.638997Z"
    },
    "papermill": {
     "duration": 0.07032,
     "end_time": "2020-11-27T00:15:43.639662",
     "exception": false,
     "start_time": "2020-11-27T00:15:43.569342",
     "status": "completed"
    },
    "tags": []
   },
   "outputs": [],
   "source": [
    "# from: https://www.kaggle.com/sohier/getting-imdb-kernels-working-with-tmdb-data/\n",
    "import json\n",
    "\n",
    "def loadMovies(path):\n",
    "    df = pd.read_csv(path)\n",
    "    df['release_date'] = pd.to_datetime(df['release_date']).apply(lambda x: x.date())\n",
    "    json_columns = ['genres', 'keywords', 'production_countries', 'production_companies', 'spoken_languages']\n",
    "    for column in json_columns:\n",
    "        df[column] = df[column].apply(json.loads)\n",
    "    return df\n",
    "\n",
    "\n",
    "def loadCredits(path):\n",
    "    df = pd.read_csv(path)\n",
    "    json_columns = ['cast', 'crew']\n",
    "    for column in json_columns:\n",
    "        df[column] = df[column].apply(json.loads)\n",
    "    return df"
   ]
  },
  {
   "cell_type": "markdown",
   "metadata": {
    "papermill": {
     "duration": 0.042691,
     "end_time": "2020-11-27T00:15:43.721239",
     "exception": false,
     "start_time": "2020-11-27T00:15:43.678548",
     "status": "completed"
    },
    "tags": []
   },
   "source": [
    "Listing the files."
   ]
  },
  {
   "cell_type": "code",
   "execution_count": 3,
   "metadata": {
    "_cell_guid": "b1076dfc-b9ad-4769-8c92-a6c4dae69d19",
    "_kg_hide-input": true,
    "_uuid": "8f2839f25d086af736a60e9eeb907d3b93b6e0e5",
    "execution": {
     "iopub.execute_input": "2020-11-27T00:15:43.805616Z",
     "iopub.status.busy": "2020-11-27T00:15:43.804885Z",
     "iopub.status.idle": "2020-11-27T00:15:43.814069Z",
     "shell.execute_reply": "2020-11-27T00:15:43.813216Z"
    },
    "papermill": {
     "duration": 0.053753,
     "end_time": "2020-11-27T00:15:43.814215",
     "exception": false,
     "start_time": "2020-11-27T00:15:43.760462",
     "status": "completed"
    },
    "tags": []
   },
   "outputs": [
    {
     "name": "stdout",
     "output_type": "stream",
     "text": [
      "/kaggle/input/tmdb-movie-metadata/tmdb_5000_movies.csv\n",
      "/kaggle/input/tmdb-movie-metadata/tmdb_5000_credits.csv\n"
     ]
    }
   ],
   "source": [
    "import os\n",
    "\n",
    "# Listing files\n",
    "for dirname, _, filenames in os.walk('/kaggle/input'):\n",
    "    for filename in filenames:\n",
    "        print(os.path.join(dirname, filename))"
   ]
  },
  {
   "cell_type": "markdown",
   "metadata": {
    "papermill": {
     "duration": 0.060777,
     "end_time": "2020-11-27T00:15:43.941997",
     "exception": false,
     "start_time": "2020-11-27T00:15:43.881220",
     "status": "completed"
    },
    "tags": []
   },
   "source": [
    "Loading the movies' data."
   ]
  },
  {
   "cell_type": "code",
   "execution_count": 4,
   "metadata": {
    "_cell_guid": "79c7e3d0-c299-4dcb-8224-4455121ee9b0",
    "_uuid": "d629ff2d2480ee46fbb7e2d37f6b5fab8052498a",
    "execution": {
     "iopub.execute_input": "2020-11-27T00:15:44.068963Z",
     "iopub.status.busy": "2020-11-27T00:15:44.068274Z",
     "iopub.status.idle": "2020-11-27T00:15:44.431541Z",
     "shell.execute_reply": "2020-11-27T00:15:44.431007Z"
    },
    "papermill": {
     "duration": 0.430307,
     "end_time": "2020-11-27T00:15:44.431651",
     "exception": false,
     "start_time": "2020-11-27T00:15:44.001344",
     "status": "completed"
    },
    "tags": []
   },
   "outputs": [
    {
     "data": {
      "text/html": [
       "<div>\n",
       "<style scoped>\n",
       "    .dataframe tbody tr th:only-of-type {\n",
       "        vertical-align: middle;\n",
       "    }\n",
       "\n",
       "    .dataframe tbody tr th {\n",
       "        vertical-align: top;\n",
       "    }\n",
       "\n",
       "    .dataframe thead th {\n",
       "        text-align: right;\n",
       "    }\n",
       "</style>\n",
       "<table border=\"1\" class=\"dataframe\">\n",
       "  <thead>\n",
       "    <tr style=\"text-align: right;\">\n",
       "      <th></th>\n",
       "      <th>id</th>\n",
       "      <th>title</th>\n",
       "      <th>genres</th>\n",
       "      <th>overview</th>\n",
       "    </tr>\n",
       "  </thead>\n",
       "  <tbody>\n",
       "    <tr>\n",
       "      <th>0</th>\n",
       "      <td>19995</td>\n",
       "      <td>Avatar</td>\n",
       "      <td>[{'id': 28, 'name': 'Action'}, {'id': 12, 'nam...</td>\n",
       "      <td>In the 22nd century, a paraplegic Marine is di...</td>\n",
       "    </tr>\n",
       "    <tr>\n",
       "      <th>1</th>\n",
       "      <td>285</td>\n",
       "      <td>Pirates of the Caribbean: At World's End</td>\n",
       "      <td>[{'id': 12, 'name': 'Adventure'}, {'id': 14, '...</td>\n",
       "      <td>Captain Barbossa, long believed to be dead, ha...</td>\n",
       "    </tr>\n",
       "    <tr>\n",
       "      <th>2</th>\n",
       "      <td>206647</td>\n",
       "      <td>Spectre</td>\n",
       "      <td>[{'id': 28, 'name': 'Action'}, {'id': 12, 'nam...</td>\n",
       "      <td>A cryptic message from Bond’s past sends him o...</td>\n",
       "    </tr>\n",
       "  </tbody>\n",
       "</table>\n",
       "</div>"
      ],
      "text/plain": [
       "       id                                     title  \\\n",
       "0   19995                                    Avatar   \n",
       "1     285  Pirates of the Caribbean: At World's End   \n",
       "2  206647                                   Spectre   \n",
       "\n",
       "                                              genres  \\\n",
       "0  [{'id': 28, 'name': 'Action'}, {'id': 12, 'nam...   \n",
       "1  [{'id': 12, 'name': 'Adventure'}, {'id': 14, '...   \n",
       "2  [{'id': 28, 'name': 'Action'}, {'id': 12, 'nam...   \n",
       "\n",
       "                                            overview  \n",
       "0  In the 22nd century, a paraplegic Marine is di...  \n",
       "1  Captain Barbossa, long believed to be dead, ha...  \n",
       "2  A cryptic message from Bond’s past sends him o...  "
      ]
     },
     "metadata": {},
     "output_type": "display_data"
    }
   ],
   "source": [
    "# Loading movies\n",
    "dfMovies = loadMovies(\"../input/tmdb-movie-metadata/tmdb_5000_movies.csv\")\n",
    "\n",
    "# Filtering columns\n",
    "columnsOfInterest = ['id', 'title', 'genres', 'overview']\n",
    "dfMovies = dfMovies[columnsOfInterest]\n",
    "# Removing null(overview)\n",
    "dfMovies = dfMovies[dfMovies['overview'].notnull()].reset_index(drop=True)\n",
    "\n",
    "# Print\n",
    "display(dfMovies.head(3))"
   ]
  },
  {
   "cell_type": "markdown",
   "metadata": {
    "papermill": {
     "duration": 0.040775,
     "end_time": "2020-11-27T00:15:44.513448",
     "exception": false,
     "start_time": "2020-11-27T00:15:44.472673",
     "status": "completed"
    },
    "tags": []
   },
   "source": [
    "---\n",
    "# Movies' categories\n",
    "\n",
    "Which movie categories do we have in this dataset? How many movies per category do we have?"
   ]
  },
  {
   "cell_type": "code",
   "execution_count": 5,
   "metadata": {
    "execution": {
     "iopub.execute_input": "2020-11-27T00:15:44.616655Z",
     "iopub.status.busy": "2020-11-27T00:15:44.611408Z",
     "iopub.status.idle": "2020-11-27T00:15:45.117672Z",
     "shell.execute_reply": "2020-11-27T00:15:45.117002Z"
    },
    "papermill": {
     "duration": 0.563563,
     "end_time": "2020-11-27T00:15:45.117780",
     "exception": false,
     "start_time": "2020-11-27T00:15:44.554217",
     "status": "completed"
    },
    "tags": []
   },
   "outputs": [],
   "source": [
    "# Counting number of categories\n",
    "categoriesCount = {}\n",
    "\n",
    "for index, row in dfMovies.iterrows():\n",
    "    for category in row['genres']:\n",
    "        catName = category['name']\n",
    "        categoriesCount[catName] = categoriesCount[catName]+1 if (catName in categoriesCount) else 1"
   ]
  },
  {
   "cell_type": "code",
   "execution_count": 6,
   "metadata": {
    "_kg_hide-input": true,
    "execution": {
     "iopub.execute_input": "2020-11-27T00:15:45.205961Z",
     "iopub.status.busy": "2020-11-27T00:15:45.205214Z",
     "iopub.status.idle": "2020-11-27T00:15:45.210274Z",
     "shell.execute_reply": "2020-11-27T00:15:45.209622Z"
    },
    "papermill": {
     "duration": 0.050886,
     "end_time": "2020-11-27T00:15:45.210437",
     "exception": false,
     "start_time": "2020-11-27T00:15:45.159551",
     "status": "completed"
    },
    "tags": []
   },
   "outputs": [
    {
     "name": "stdout",
     "output_type": "stream",
     "text": [
      "number of categories: 20\n"
     ]
    }
   ],
   "source": [
    "print('number of categories:', len(categoriesCount.keys()))"
   ]
  },
  {
   "cell_type": "markdown",
   "metadata": {
    "papermill": {
     "duration": 0.062036,
     "end_time": "2020-11-27T00:15:45.335258",
     "exception": false,
     "start_time": "2020-11-27T00:15:45.273222",
     "status": "completed"
    },
    "tags": []
   },
   "source": [
    "As we can see, we have a few categories presented in a high number of movies (_e.g.,_ Drama) and others not so much (_e.g.,_ TV Movie). \n",
    "At this point, we have to specify the importance of these low representative categories for our project.\n",
    "For studying proposes, I will maintain all of the categories. However, note that this action can injure our future prediction."
   ]
  },
  {
   "cell_type": "code",
   "execution_count": 7,
   "metadata": {
    "execution": {
     "iopub.execute_input": "2020-11-27T00:15:45.467531Z",
     "iopub.status.busy": "2020-11-27T00:15:45.466600Z",
     "iopub.status.idle": "2020-11-27T00:15:45.705811Z",
     "shell.execute_reply": "2020-11-27T00:15:45.706567Z"
    },
    "papermill": {
     "duration": 0.309885,
     "end_time": "2020-11-27T00:15:45.706754",
     "exception": false,
     "start_time": "2020-11-27T00:15:45.396869",
     "status": "completed"
    },
    "tags": []
   },
   "outputs": [
    {
     "data": {
      "image/png": "[encoded data removed]",
      "text/plain": [
       "<Figure size 432x288 with 1 Axes>"
      ]
     },
     "metadata": {
      "needs_background": "light"
     },
     "output_type": "display_data"
    }
   ],
   "source": [
    "# Plotting\n",
    "keys = categoriesCount.keys()\n",
    "values = categoriesCount.values()\n",
    "\n",
    "plt.bar(keys, values)\n",
    "plt.xticks(rotation='vertical')\n",
    "plt.show()"
   ]
  },
  {
   "cell_type": "markdown",
   "metadata": {
    "papermill": {
     "duration": 0.044259,
     "end_time": "2020-11-27T00:15:45.795759",
     "exception": false,
     "start_time": "2020-11-27T00:15:45.751500",
     "status": "completed"
    },
    "tags": []
   },
   "source": [
    "---\n",
    "# NLP (Natural Language Processing)\n",
    "\n",
    "Extract attributes from the movies' overview to create vectors of characteristics describing the movies and their categories.\n",
    "\n",
    "## Data Pre-processing\n",
    "\n",
    "It will perform the following steps:\n",
    "\n",
    "- **Tokenization** - split the sentences into words/tokens. Lowercase the words and remove punctuation.\n",
    "    - Words that have fewer than 3 characters are removed.\n",
    "    - All [stopwords](https://en.wikipedia.org/wiki/Stop_word) are removed.\n",
    "- **Lemmatization** — words in third person are changed to first person and verbs in past and future tenses are changed into present.\n",
    "- **Stemming** — words are reduced to their root form."
   ]
  },
  {
   "cell_type": "code",
   "execution_count": 8,
   "metadata": {
    "_kg_hide-output": true,
    "execution": {
     "iopub.execute_input": "2020-11-27T00:15:45.888181Z",
     "iopub.status.busy": "2020-11-27T00:15:45.887555Z",
     "iopub.status.idle": "2020-11-27T00:15:47.932585Z",
     "shell.execute_reply": "2020-11-27T00:15:47.931897Z"
    },
    "papermill": {
     "duration": 2.093096,
     "end_time": "2020-11-27T00:15:47.932712",
     "exception": false,
     "start_time": "2020-11-27T00:15:45.839616",
     "status": "completed"
    },
    "tags": []
   },
   "outputs": [
    {
     "name": "stdout",
     "output_type": "stream",
     "text": [
      "[nltk_data] Downloading package wordnet to /usr/share/nltk_data...\n",
      "[nltk_data]   Package wordnet is already up-to-date!\n"
     ]
    },
    {
     "data": {
      "text/plain": [
       "True"
      ]
     },
     "execution_count": 8,
     "metadata": {},
     "output_type": "execute_result"
    }
   ],
   "source": [
    "import gensim # topic modeling toolkit\n",
    "import nltk # natural language toolkit\n",
    "\n",
    "from gensim.utils import simple_preprocess\n",
    "from gensim.parsing.preprocessing import STOPWORDS\n",
    "from nltk.stem import WordNetLemmatizer, SnowballStemmer\n",
    "from nltk.stem.porter import *\n",
    "\n",
    "stemmer = SnowballStemmer('english')\n",
    "nltk.download('wordnet')"
   ]
  },
  {
   "cell_type": "markdown",
   "metadata": {
    "papermill": {
     "duration": 0.042925,
     "end_time": "2020-11-27T00:15:48.019769",
     "exception": false,
     "start_time": "2020-11-27T00:15:47.976844",
     "status": "completed"
    },
    "tags": []
   },
   "source": [
    "Preprocess coding _(hide)_."
   ]
  },
  {
   "cell_type": "code",
   "execution_count": 9,
   "metadata": {
    "_kg_hide-input": true,
    "execution": {
     "iopub.execute_input": "2020-11-27T00:15:48.118344Z",
     "iopub.status.busy": "2020-11-27T00:15:48.117517Z",
     "iopub.status.idle": "2020-11-27T00:15:48.121303Z",
     "shell.execute_reply": "2020-11-27T00:15:48.120679Z"
    },
    "papermill": {
     "duration": 0.057938,
     "end_time": "2020-11-27T00:15:48.121446",
     "exception": false,
     "start_time": "2020-11-27T00:15:48.063508",
     "status": "completed"
    },
    "tags": []
   },
   "outputs": [],
   "source": [
    "# Lemmatization process\n",
    "def lemmatize(text):\n",
    "    return WordNetLemmatizer().lemmatize(text, pos='v')\n",
    "\n",
    "\n",
    "# Stemming process\n",
    "def stemming(text):\n",
    "    return stemmer.stem(text)\n",
    "\n",
    "\n",
    "# Tokenization process\n",
    "def preprocess(text):\n",
    "    result = []\n",
    "    for token in gensim.utils.simple_preprocess(text):\n",
    "        if token not in gensim.parsing.preprocessing.STOPWORDS and len(token) > 3:\n",
    "            LemmatizedToken = lemmatize(token)\n",
    "            result.append(stemming(LemmatizedToken))\n",
    "    return result"
   ]
  },
  {
   "cell_type": "markdown",
   "metadata": {
    "papermill": {
     "duration": 0.044194,
     "end_time": "2020-11-27T00:15:48.209302",
     "exception": false,
     "start_time": "2020-11-27T00:15:48.165108",
     "status": "completed"
    },
    "tags": []
   },
   "source": [
    "Testing preprocess -    \n",
    "Selecting a random movie."
   ]
  },
  {
   "cell_type": "code",
   "execution_count": 10,
   "metadata": {
    "execution": {
     "iopub.execute_input": "2020-11-27T00:15:48.303415Z",
     "iopub.status.busy": "2020-11-27T00:15:48.302797Z",
     "iopub.status.idle": "2020-11-27T00:15:48.308930Z",
     "shell.execute_reply": "2020-11-27T00:15:48.308235Z"
    },
    "papermill": {
     "duration": 0.056572,
     "end_time": "2020-11-27T00:15:48.309062",
     "exception": false,
     "start_time": "2020-11-27T00:15:48.252490",
     "status": "completed"
    },
    "tags": []
   },
   "outputs": [
    {
     "data": {
      "text/plain": [
       "id                                                      13700\n",
       "title                                       Home on the Range\n",
       "genres      [{'id': 16, 'name': 'Animation'}, {'id': 10751...\n",
       "overview    When a greedy outlaw schemes to take possessio...\n",
       "Name: 255, dtype: object"
      ]
     },
     "metadata": {},
     "output_type": "display_data"
    }
   ],
   "source": [
    "movie = dfMovies.loc[255]\n",
    "display(movie)"
   ]
  },
  {
   "cell_type": "code",
   "execution_count": 11,
   "metadata": {
    "execution": {
     "iopub.execute_input": "2020-11-27T00:15:48.449449Z",
     "iopub.status.busy": "2020-11-27T00:15:48.448478Z",
     "iopub.status.idle": "2020-11-27T00:15:48.452966Z",
     "shell.execute_reply": "2020-11-27T00:15:48.452071Z"
    },
    "papermill": {
     "duration": 0.076959,
     "end_time": "2020-11-27T00:15:48.453086",
     "exception": false,
     "start_time": "2020-11-27T00:15:48.376127",
     "status": "completed"
    },
    "tags": []
   },
   "outputs": [
    {
     "name": "stdout",
     "output_type": "stream",
     "text": [
      "When a greedy outlaw schemes to take possession of the \"Patch Of Heaven\" dairy farm, three determined cows, a karate-kicking stallion and a colorful corral of critters join forces to save their home. The stakes are sky-high as this unlikely animal alliance risk their hides and match wits with a mysterious band of bad guys.\n"
     ]
    }
   ],
   "source": [
    "overview = movie['overview']\n",
    "print(overview)"
   ]
  },
  {
   "cell_type": "code",
   "execution_count": 12,
   "metadata": {
    "execution": {
     "iopub.execute_input": "2020-11-27T00:15:48.591785Z",
     "iopub.status.busy": "2020-11-27T00:15:48.590981Z",
     "iopub.status.idle": "2020-11-27T00:15:50.506297Z",
     "shell.execute_reply": "2020-11-27T00:15:50.505754Z"
    },
    "papermill": {
     "duration": 1.986697,
     "end_time": "2020-11-27T00:15:50.506457",
     "exception": false,
     "start_time": "2020-11-27T00:15:48.519760",
     "status": "completed"
    },
    "tags": []
   },
   "outputs": [
    {
     "name": "stdout",
     "output_type": "stream",
     "text": [
      "['greedi', 'outlaw', 'scheme', 'possess', 'patch', 'heaven', 'dairi', 'farm', 'determin', 'cow', 'karat', 'kick', 'stallion', 'color', 'corral', 'critter', 'join', 'forc', 'save', 'home', 'stake', 'high', 'unlik', 'anim', 'allianc', 'risk', 'hide', 'match', 'wit', 'mysteri', 'band', 'guy']\n"
     ]
    }
   ],
   "source": [
    "print(preprocess(overview))"
   ]
  },
  {
   "cell_type": "markdown",
   "metadata": {
    "papermill": {
     "duration": 0.044813,
     "end_time": "2020-11-27T00:15:50.597328",
     "exception": false,
     "start_time": "2020-11-27T00:15:50.552515",
     "status": "completed"
    },
    "tags": []
   },
   "source": [
    "Preprocess all movies."
   ]
  },
  {
   "cell_type": "code",
   "execution_count": 13,
   "metadata": {
    "execution": {
     "iopub.execute_input": "2020-11-27T00:15:50.713041Z",
     "iopub.status.busy": "2020-11-27T00:15:50.702840Z",
     "iopub.status.idle": "2020-11-27T00:15:57.307542Z",
     "shell.execute_reply": "2020-11-27T00:15:57.306955Z"
    },
    "papermill": {
     "duration": 6.665544,
     "end_time": "2020-11-27T00:15:57.307655",
     "exception": false,
     "start_time": "2020-11-27T00:15:50.642111",
     "status": "completed"
    },
    "tags": []
   },
   "outputs": [
    {
     "data": {
      "text/plain": [
       "0       [centuri, parapleg, marin, dispatch, moon, pan...\n",
       "1       [captain, barbossa, long, believ, dead, come, ...\n",
       "2       [cryptic, messag, bond, past, send, trail, unc...\n",
       "3       [follow, death, district, attorney, harvey, de...\n",
       "4       [john, carter, weari, militari, captain, inexp...\n",
       "                              ...                        \n",
       "4795    [mariachi, want, play, guitar, carri, famili, ...\n",
       "4796    [newlyw, coupl, honeymoon, upend, arriv, respe...\n",
       "4797    [sign, seal, deliv, introduc, dedic, quartet, ...\n",
       "4798    [ambiti, york, attorney, send, shanghai, assig...\n",
       "4799    [second, grade, brian, herzling, crush, draw, ...\n",
       "Name: overview, Length: 4800, dtype: object"
      ]
     },
     "metadata": {},
     "output_type": "display_data"
    }
   ],
   "source": [
    "processedMovies = dfMovies['overview'].map(preprocess)\n",
    "display(processedMovies)"
   ]
  },
  {
   "cell_type": "markdown",
   "metadata": {
    "papermill": {
     "duration": 0.045476,
     "end_time": "2020-11-27T00:15:57.399385",
     "exception": false,
     "start_time": "2020-11-27T00:15:57.353909",
     "status": "completed"
    },
    "tags": []
   },
   "source": [
    "## Bag of Words (BOW)\n",
    "\n",
    "The [bag-of-words](https://en.wikipedia.org/wiki/Bag-of-words_model) model is a representation used in natural language processing to transform the document into number vectors. In this model, a document is represented as the bag of its words, disregarding grammar and even word order but keeping multiplicity/quantity."
   ]
  },
  {
   "cell_type": "code",
   "execution_count": 14,
   "metadata": {
    "execution": {
     "iopub.execute_input": "2020-11-27T00:15:57.508346Z",
     "iopub.status.busy": "2020-11-27T00:15:57.502294Z",
     "iopub.status.idle": "2020-11-27T00:15:57.830493Z",
     "shell.execute_reply": "2020-11-27T00:15:57.829648Z"
    },
    "papermill": {
     "duration": 0.385105,
     "end_time": "2020-11-27T00:15:57.830623",
     "exception": false,
     "start_time": "2020-11-27T00:15:57.445518",
     "status": "completed"
    },
    "tags": []
   },
   "outputs": [],
   "source": [
    "dictionary = gensim.corpora.Dictionary(processedMovies)"
   ]
  },
  {
   "cell_type": "markdown",
   "metadata": {
    "papermill": {
     "duration": 0.069177,
     "end_time": "2020-11-27T00:15:57.970047",
     "exception": false,
     "start_time": "2020-11-27T00:15:57.900870",
     "status": "completed"
    },
    "tags": []
   },
   "source": [
    "Filter out tokens that appear in\n",
    "\n",
    "- Less than 10 movies (absolute number); or\n",
    "- More than 50% movies (fraction of total corpus size).\n",
    "- After that, keep only the first 100,000 most frequent tokens."
   ]
  },
  {
   "cell_type": "code",
   "execution_count": 15,
   "metadata": {
    "_kg_hide-output": true,
    "execution": {
     "iopub.execute_input": "2020-11-27T00:15:58.124405Z",
     "iopub.status.busy": "2020-11-27T00:15:58.123432Z",
     "iopub.status.idle": "2020-11-27T00:15:58.154641Z",
     "shell.execute_reply": "2020-11-27T00:15:58.155289Z"
    },
    "papermill": {
     "duration": 0.115728,
     "end_time": "2020-11-27T00:15:58.155482",
     "exception": false,
     "start_time": "2020-11-27T00:15:58.039754",
     "status": "completed"
    },
    "tags": []
   },
   "outputs": [],
   "source": [
    "dictionary.filter_extremes(no_below=10, no_above=0.5, keep_n=100000)"
   ]
  },
  {
   "cell_type": "markdown",
   "metadata": {
    "papermill": {
     "duration": 0.069072,
     "end_time": "2020-11-27T00:15:58.294130",
     "exception": false,
     "start_time": "2020-11-27T00:15:58.225058",
     "status": "completed"
    },
    "tags": []
   },
   "source": [
    "Gensim doc2bow\n",
    "\n",
    "- Creating the movies' attributes/characteristics.\n",
    "    - Using the dictionary to create the BOW."
   ]
  },
  {
   "cell_type": "code",
   "execution_count": 16,
   "metadata": {
    "execution": {
     "iopub.execute_input": "2020-11-27T00:15:58.450241Z",
     "iopub.status.busy": "2020-11-27T00:15:58.445104Z",
     "iopub.status.idle": "2020-11-27T00:15:58.590115Z",
     "shell.execute_reply": "2020-11-27T00:15:58.589161Z"
    },
    "papermill": {
     "duration": 0.227412,
     "end_time": "2020-11-27T00:15:58.590251",
     "exception": false,
     "start_time": "2020-11-27T00:15:58.362839",
     "status": "completed"
    },
    "tags": []
   },
   "outputs": [],
   "source": [
    "bowCorpus = [dictionary.doc2bow(doc) for doc in processedMovies]"
   ]
  },
  {
   "cell_type": "markdown",
   "metadata": {
    "papermill": {
     "duration": 0.069849,
     "end_time": "2020-11-27T00:15:58.735880",
     "exception": false,
     "start_time": "2020-11-27T00:15:58.666031",
     "status": "completed"
    },
    "tags": []
   },
   "source": [
    "Preview a vector of characteristics."
   ]
  },
  {
   "cell_type": "code",
   "execution_count": 17,
   "metadata": {
    "execution": {
     "iopub.execute_input": "2020-11-27T00:15:58.882427Z",
     "iopub.status.busy": "2020-11-27T00:15:58.881583Z",
     "iopub.status.idle": "2020-11-27T00:15:58.887299Z",
     "shell.execute_reply": "2020-11-27T00:15:58.886677Z"
    },
    "papermill": {
     "duration": 0.082251,
     "end_time": "2020-11-27T00:15:58.887425",
     "exception": false,
     "start_time": "2020-11-27T00:15:58.805174",
     "status": "completed"
    },
    "tags": []
   },
   "outputs": [
    {
     "data": {
      "text/plain": [
       "[(26, 1),\n",
       " (57, 1),\n",
       " (113, 1),\n",
       " (129, 1),\n",
       " (132, 1),\n",
       " (199, 1),\n",
       " (226, 1),\n",
       " (235, 1),\n",
       " (241, 1),\n",
       " (288, 1),\n",
       " (319, 1),\n",
       " (451, 1),\n",
       " (472, 1),\n",
       " (510, 1),\n",
       " (537, 1),\n",
       " (567, 1),\n",
       " (776, 1),\n",
       " (1176, 1),\n",
       " (1300, 1),\n",
       " (1344, 1),\n",
       " (1439, 1),\n",
       " (1440, 1),\n",
       " (1441, 1),\n",
       " (1442, 1)]"
      ]
     },
     "metadata": {},
     "output_type": "display_data"
    }
   ],
   "source": [
    "display(bowCorpus[255])"
   ]
  },
  {
   "cell_type": "markdown",
   "metadata": {
    "papermill": {
     "duration": 0.046215,
     "end_time": "2020-11-27T00:15:58.993323",
     "exception": false,
     "start_time": "2020-11-27T00:15:58.947108",
     "status": "completed"
    },
    "tags": []
   },
   "source": [
    "## TF-IDF\n",
    "\n",
    "[Term frequency–inverse document frequency](https://en.wikipedia.org/wiki/Tf%E2%80%93idf) (TF-IDF) is another way to represent the characteristics from movies, similar to bag-of-words.\n",
    "TF-IDF is a numerical statistic that is intended to reflect how important a word is to a document in a collection or corpus."
   ]
  },
  {
   "cell_type": "code",
   "execution_count": 18,
   "metadata": {
    "execution": {
     "iopub.execute_input": "2020-11-27T00:15:59.098776Z",
     "iopub.status.busy": "2020-11-27T00:15:59.097934Z",
     "iopub.status.idle": "2020-11-27T00:15:59.156086Z",
     "shell.execute_reply": "2020-11-27T00:15:59.155555Z"
    },
    "papermill": {
     "duration": 0.116252,
     "end_time": "2020-11-27T00:15:59.156198",
     "exception": false,
     "start_time": "2020-11-27T00:15:59.039946",
     "status": "completed"
    },
    "tags": []
   },
   "outputs": [],
   "source": [
    "from gensim import corpora, models\n",
    "\n",
    "tfidf = models.TfidfModel(bowCorpus)\n",
    "tfidfCorpus = tfidf[bowCorpus]"
   ]
  },
  {
   "cell_type": "markdown",
   "metadata": {
    "papermill": {
     "duration": 0.046613,
     "end_time": "2020-11-27T00:15:59.250028",
     "exception": false,
     "start_time": "2020-11-27T00:15:59.203415",
     "status": "completed"
    },
    "tags": []
   },
   "source": [
    "Preview a vector of characteristics."
   ]
  },
  {
   "cell_type": "code",
   "execution_count": 19,
   "metadata": {
    "execution": {
     "iopub.execute_input": "2020-11-27T00:15:59.352062Z",
     "iopub.status.busy": "2020-11-27T00:15:59.351158Z",
     "iopub.status.idle": "2020-11-27T00:15:59.356639Z",
     "shell.execute_reply": "2020-11-27T00:15:59.356026Z"
    },
    "papermill": {
     "duration": 0.060021,
     "end_time": "2020-11-27T00:15:59.356752",
     "exception": false,
     "start_time": "2020-11-27T00:15:59.296731",
     "status": "completed"
    },
    "tags": []
   },
   "outputs": [
    {
     "data": {
      "text/plain": [
       "[(26, 0.12234971191857819),\n",
       " (57, 0.13852808277259349),\n",
       " (113, 0.19194197862609208),\n",
       " (129, 0.19257446151068044),\n",
       " (132, 0.2710640048244149),\n",
       " (199, 0.18034839556145862),\n",
       " (226, 0.24694038357766945),\n",
       " (235, 0.13586359907555673),\n",
       " (241, 0.2449020799154989),\n",
       " (288, 0.23121489820394345),\n",
       " (319, 0.131966296315022),\n",
       " (451, 0.195195419545093),\n",
       " (472, 0.18661096867588853),\n",
       " (510, 0.22834807211595207),\n",
       " (537, 0.1309584693253948),\n",
       " (567, 0.16512924280940205),\n",
       " (776, 0.21412614052899714),\n",
       " (1176, 0.22435822788680934),\n",
       " (1300, 0.20662303076587288),\n",
       " (1344, 0.1907025982567734),\n",
       " (1439, 0.2645022183668434),\n",
       " (1440, 0.24907352549935896),\n",
       " (1441, 0.22834807211595207),\n",
       " (1442, 0.21621078505628577)]"
      ]
     },
     "metadata": {},
     "output_type": "display_data"
    }
   ],
   "source": [
    "display(tfidfCorpus[255])"
   ]
  },
  {
   "cell_type": "markdown",
   "metadata": {
    "papermill": {
     "duration": 0.047399,
     "end_time": "2020-11-27T00:15:59.452122",
     "exception": false,
     "start_time": "2020-11-27T00:15:59.404723",
     "status": "completed"
    },
    "tags": []
   },
   "source": [
    "At this point, we have two ways to represent the movies' attributes - bag-of-words and tf-idf.   \n",
    "**What can we do?** Classify categories, identify common topics into the movies, and so on."
   ]
  },
  {
   "cell_type": "markdown",
   "metadata": {
    "papermill": {
     "duration": 0.047348,
     "end_time": "2020-11-27T00:15:59.547126",
     "exception": false,
     "start_time": "2020-11-27T00:15:59.499778",
     "status": "completed"
    },
    "tags": []
   },
   "source": [
    "# 1. Infer Categories\n",
    "\n",
    "Note, a movie is composed of a set of categories. Thus, we have to identify $n$ categories to an unseen movie, because we do not know the number of categories that it has. \n",
    "In this way, we have to use a [soft classify](https://www.ncbi.nlm.nih.gov/pmc/articles/PMC3233196/) approach - that is a classifier that identify a set of classes to a record."
   ]
  },
  {
   "cell_type": "code",
   "execution_count": 20,
   "metadata": {
    "execution": {
     "iopub.execute_input": "2020-11-27T00:15:59.649440Z",
     "iopub.status.busy": "2020-11-27T00:15:59.648748Z",
     "iopub.status.idle": "2020-11-27T00:15:59.653014Z",
     "shell.execute_reply": "2020-11-27T00:15:59.652336Z"
    },
    "papermill": {
     "duration": 0.057817,
     "end_time": "2020-11-27T00:15:59.653119",
     "exception": false,
     "start_time": "2020-11-27T00:15:59.595302",
     "status": "completed"
    },
    "tags": []
   },
   "outputs": [],
   "source": [
    "from sklearn.linear_model import LogisticRegression\n",
    "from sklearn.model_selection import train_test_split\n",
    "from gensim.matutils import corpus2dense"
   ]
  },
  {
   "cell_type": "markdown",
   "metadata": {
    "papermill": {
     "duration": 0.047994,
     "end_time": "2020-11-27T00:15:59.784680",
     "exception": false,
     "start_time": "2020-11-27T00:15:59.736686",
     "status": "completed"
    },
    "tags": []
   },
   "source": [
    "## Attributes\n",
    "\n",
    "Creating a dense matrix, that is transform the words into a matrix of attributes."
   ]
  },
  {
   "cell_type": "code",
   "execution_count": 21,
   "metadata": {
    "execution": {
     "iopub.execute_input": "2020-11-27T00:15:59.886046Z",
     "iopub.status.busy": "2020-11-27T00:15:59.885104Z",
     "iopub.status.idle": "2020-11-27T00:16:05.673298Z",
     "shell.execute_reply": "2020-11-27T00:16:05.672766Z"
    },
    "papermill": {
     "duration": 5.840881,
     "end_time": "2020-11-27T00:16:05.673431",
     "exception": false,
     "start_time": "2020-11-27T00:15:59.832550",
     "status": "completed"
    },
    "tags": []
   },
   "outputs": [],
   "source": [
    "tfidfDense = corpus2dense(tfidfCorpus, num_terms=100000, num_docs=len(tfidfCorpus))\n",
    "tfidfDense = tfidfDense.T"
   ]
  },
  {
   "cell_type": "code",
   "execution_count": 22,
   "metadata": {
    "execution": {
     "iopub.execute_input": "2020-11-27T00:16:05.776832Z",
     "iopub.status.busy": "2020-11-27T00:16:05.775946Z",
     "iopub.status.idle": "2020-11-27T00:16:05.780738Z",
     "shell.execute_reply": "2020-11-27T00:16:05.780135Z"
    },
    "papermill": {
     "duration": 0.058699,
     "end_time": "2020-11-27T00:16:05.780846",
     "exception": false,
     "start_time": "2020-11-27T00:16:05.722147",
     "status": "completed"
    },
    "tags": []
   },
   "outputs": [
    {
     "name": "stdout",
     "output_type": "stream",
     "text": [
      "movies, attributes: (4800, 100000)\n"
     ]
    }
   ],
   "source": [
    "print('movies, attributes:', tfidfDense.shape)"
   ]
  },
  {
   "cell_type": "markdown",
   "metadata": {
    "papermill": {
     "duration": 0.049676,
     "end_time": "2020-11-27T00:16:05.879841",
     "exception": false,
     "start_time": "2020-11-27T00:16:05.830165",
     "status": "completed"
    },
    "tags": []
   },
   "source": [
    "Getting characteristics of the categories:\n",
    "\n",
    "- For each movie\n",
    "    - For each category\n",
    "        - Get its atributes and it category"
   ]
  },
  {
   "cell_type": "code",
   "execution_count": 23,
   "metadata": {
    "execution": {
     "iopub.execute_input": "2020-11-27T00:16:05.993955Z",
     "iopub.status.busy": "2020-11-27T00:16:05.988942Z",
     "iopub.status.idle": "2020-11-27T00:16:06.499876Z",
     "shell.execute_reply": "2020-11-27T00:16:06.499309Z"
    },
    "papermill": {
     "duration": 0.570488,
     "end_time": "2020-11-27T00:16:06.499991",
     "exception": false,
     "start_time": "2020-11-27T00:16:05.929503",
     "status": "completed"
    },
    "tags": []
   },
   "outputs": [],
   "source": [
    "denseMatrix, yCategory = [], []\n",
    "for index, row in dfMovies.iterrows():\n",
    "    for category in row['genres']:\n",
    "        denseMatrix.append(tfidfDense[index])\n",
    "        yCategory.append(category['name'])"
   ]
  },
  {
   "cell_type": "markdown",
   "metadata": {
    "papermill": {
     "duration": 0.049082,
     "end_time": "2020-11-27T00:16:06.597756",
     "exception": false,
     "start_time": "2020-11-27T00:16:06.548674",
     "status": "completed"
    },
    "tags": []
   },
   "source": [
    "Memory cleanning: reducing the decimals and deleting unused variables."
   ]
  },
  {
   "cell_type": "code",
   "execution_count": 24,
   "metadata": {
    "execution": {
     "iopub.execute_input": "2020-11-27T00:16:06.700253Z",
     "iopub.status.busy": "2020-11-27T00:16:06.699650Z",
     "iopub.status.idle": "2020-11-27T00:16:45.166958Z",
     "shell.execute_reply": "2020-11-27T00:16:45.166444Z"
    },
    "papermill": {
     "duration": 38.520418,
     "end_time": "2020-11-27T00:16:45.167078",
     "exception": false,
     "start_time": "2020-11-27T00:16:06.646660",
     "status": "completed"
    },
    "tags": []
   },
   "outputs": [],
   "source": [
    "denseMatrix = [tup.astype(np.float16) for tup in denseMatrix]"
   ]
  },
  {
   "cell_type": "code",
   "execution_count": 25,
   "metadata": {
    "execution": {
     "iopub.execute_input": "2020-11-27T00:16:45.273394Z",
     "iopub.status.busy": "2020-11-27T00:16:45.272529Z",
     "iopub.status.idle": "2020-11-27T00:16:45.276577Z",
     "shell.execute_reply": "2020-11-27T00:16:45.275894Z"
    },
    "papermill": {
     "duration": 0.060653,
     "end_time": "2020-11-27T00:16:45.276709",
     "exception": false,
     "start_time": "2020-11-27T00:16:45.216056",
     "status": "completed"
    },
    "tags": []
   },
   "outputs": [],
   "source": [
    "del tfidfDense"
   ]
  },
  {
   "cell_type": "markdown",
   "metadata": {
    "papermill": {
     "duration": 0.072838,
     "end_time": "2020-11-27T00:16:45.423238",
     "exception": false,
     "start_time": "2020-11-27T00:16:45.350400",
     "status": "completed"
    },
    "tags": []
   },
   "source": [
    "## Trainning\n",
    "\n",
    "Split the data into train and test datasets."
   ]
  },
  {
   "cell_type": "code",
   "execution_count": 26,
   "metadata": {
    "execution": {
     "iopub.execute_input": "2020-11-27T00:16:45.587216Z",
     "iopub.status.busy": "2020-11-27T00:16:45.583378Z",
     "iopub.status.idle": "2020-11-27T00:16:45.591806Z",
     "shell.execute_reply": "2020-11-27T00:16:45.591037Z"
    },
    "papermill": {
     "duration": 0.092736,
     "end_time": "2020-11-27T00:16:45.591933",
     "exception": false,
     "start_time": "2020-11-27T00:16:45.499197",
     "status": "completed"
    },
    "tags": []
   },
   "outputs": [
    {
     "name": "stdout",
     "output_type": "stream",
     "text": [
      "train size: 10941\n",
      "test size : 1216\n"
     ]
    }
   ],
   "source": [
    "X_train, X_test, y_train, y_test = train_test_split(denseMatrix, yCategory, test_size=0.1, random_state=43)\n",
    "\n",
    "print('train size:', len(y_train))\n",
    "print('test size :', len(y_test))"
   ]
  },
  {
   "cell_type": "markdown",
   "metadata": {
    "papermill": {
     "duration": 0.075029,
     "end_time": "2020-11-27T00:16:45.741221",
     "exception": false,
     "start_time": "2020-11-27T00:16:45.666192",
     "status": "completed"
    },
    "tags": []
   },
   "source": [
    "Let's train our classifier. "
   ]
  },
  {
   "cell_type": "code",
   "execution_count": 27,
   "metadata": {
    "_kg_hide-input": true,
    "_kg_hide-output": true,
    "execution": {
     "iopub.execute_input": "2020-11-27T00:16:45.899241Z",
     "iopub.status.busy": "2020-11-27T00:16:45.898571Z",
     "iopub.status.idle": "2020-11-27T00:16:45.901816Z",
     "shell.execute_reply": "2020-11-27T00:16:45.901298Z"
    },
    "papermill": {
     "duration": 0.085515,
     "end_time": "2020-11-27T00:16:45.901921",
     "exception": false,
     "start_time": "2020-11-27T00:16:45.816406",
     "status": "completed"
    },
    "tags": []
   },
   "outputs": [],
   "source": [
    "def getClassesProbabilities(model, record):\n",
    "    probs = model.predict_proba([record]).T\n",
    "    classes = model.classes_\n",
    "\n",
    "    output = pd.DataFrame(data=[classes,probs]).T\n",
    "    output.columns = ['category','probability']\n",
    "    output['probability'] = output.apply(lambda x: x['probability'][0], axis=1)\n",
    "    return output.sort_values(by='probability', ascending=False)"
   ]
  },
  {
   "cell_type": "code",
   "execution_count": 28,
   "metadata": {
    "_kg_hide-output": true,
    "execution": {
     "iopub.execute_input": "2020-11-27T00:16:46.008340Z",
     "iopub.status.busy": "2020-11-27T00:16:46.007690Z",
     "iopub.status.idle": "2020-11-27T00:28:25.747722Z",
     "shell.execute_reply": "2020-11-27T00:28:25.748440Z"
    },
    "papermill": {
     "duration": 699.795792,
     "end_time": "2020-11-27T00:28:25.748615",
     "exception": false,
     "start_time": "2020-11-27T00:16:45.952823",
     "status": "completed"
    },
    "tags": []
   },
   "outputs": [
    {
     "name": "stderr",
     "output_type": "stream",
     "text": [
      "/opt/conda/lib/python3.7/site-packages/sklearn/linear_model/_logistic.py:764: ConvergenceWarning: lbfgs failed to converge (status=1):\n",
      "STOP: TOTAL NO. of ITERATIONS REACHED LIMIT.\n",
      "\n",
      "Increase the number of iterations (max_iter) or scale the data as shown in:\n",
      "    https://scikit-learn.org/stable/modules/preprocessing.html\n",
      "Please also refer to the documentation for alternative solver options:\n",
      "    https://scikit-learn.org/stable/modules/linear_model.html#logistic-regression\n",
      "  extra_warning_msg=_LOGISTIC_SOLVER_CONVERGENCE_MSG)\n"
     ]
    }
   ],
   "source": [
    "# Train model\n",
    "clf = LogisticRegression(random_state=43, max_iter=150).fit(X_train, y_train)"
   ]
  },
  {
   "cell_type": "code",
   "execution_count": 29,
   "metadata": {
    "execution": {
     "iopub.execute_input": "2020-11-27T00:28:25.858452Z",
     "iopub.status.busy": "2020-11-27T00:28:25.854291Z",
     "iopub.status.idle": "2020-11-27T00:28:25.875880Z",
     "shell.execute_reply": "2020-11-27T00:28:25.875067Z"
    },
    "papermill": {
     "duration": 0.076248,
     "end_time": "2020-11-27T00:28:25.875999",
     "exception": false,
     "start_time": "2020-11-27T00:28:25.799751",
     "status": "completed"
    },
    "tags": []
   },
   "outputs": [
    {
     "data": {
      "text/plain": [
       "['logisticRegression.model']"
      ]
     },
     "execution_count": 29,
     "metadata": {},
     "output_type": "execute_result"
    }
   ],
   "source": [
    "from joblib import dump, load\n",
    "\n",
    "# Save model\n",
    "dump(clf, 'logisticRegression.model')"
   ]
  },
  {
   "cell_type": "code",
   "execution_count": 30,
   "metadata": {
    "execution": {
     "iopub.execute_input": "2020-11-27T00:28:26.032567Z",
     "iopub.status.busy": "2020-11-27T00:28:26.031947Z",
     "iopub.status.idle": "2020-11-27T00:28:26.044122Z",
     "shell.execute_reply": "2020-11-27T00:28:26.043500Z"
    },
    "papermill": {
     "duration": 0.092278,
     "end_time": "2020-11-27T00:28:26.044227",
     "exception": false,
     "start_time": "2020-11-27T00:28:25.951949",
     "status": "completed"
    },
    "tags": []
   },
   "outputs": [],
   "source": [
    "# Load trained model\n",
    "clf = load('logisticRegression.model') "
   ]
  },
  {
   "cell_type": "markdown",
   "metadata": {
    "papermill": {
     "duration": 0.052401,
     "end_time": "2020-11-27T00:28:26.147846",
     "exception": false,
     "start_time": "2020-11-27T00:28:26.095445",
     "status": "completed"
    },
    "tags": []
   },
   "source": [
    "## Detecting categories\n",
    "\n",
    "Predict a categorie, or a set of categories, to a movie."
   ]
  },
  {
   "cell_type": "code",
   "execution_count": 31,
   "metadata": {
    "execution": {
     "iopub.execute_input": "2020-11-27T00:28:26.256341Z",
     "iopub.status.busy": "2020-11-27T00:28:26.255540Z",
     "iopub.status.idle": "2020-11-27T00:28:26.262897Z",
     "shell.execute_reply": "2020-11-27T00:28:26.263532Z"
    },
    "papermill": {
     "duration": 0.063863,
     "end_time": "2020-11-27T00:28:26.263701",
     "exception": false,
     "start_time": "2020-11-27T00:28:26.199838",
     "status": "completed"
    },
    "tags": []
   },
   "outputs": [
    {
     "data": {
      "text/plain": [
       "array(['Drama'], dtype='<U15')"
      ]
     },
     "execution_count": 31,
     "metadata": {},
     "output_type": "execute_result"
    }
   ],
   "source": [
    "clf.predict([X_test[1]])"
   ]
  },
  {
   "cell_type": "markdown",
   "metadata": {
    "papermill": {
     "duration": 0.076478,
     "end_time": "2020-11-27T00:28:26.416596",
     "exception": false,
     "start_time": "2020-11-27T00:28:26.340118",
     "status": "completed"
    },
    "tags": []
   },
   "source": [
    "See the probability for other categories."
   ]
  },
  {
   "cell_type": "code",
   "execution_count": 32,
   "metadata": {
    "execution": {
     "iopub.execute_input": "2020-11-27T00:28:26.591632Z",
     "iopub.status.busy": "2020-11-27T00:28:26.590893Z",
     "iopub.status.idle": "2020-11-27T00:28:26.623850Z",
     "shell.execute_reply": "2020-11-27T00:28:26.622924Z"
    },
    "papermill": {
     "duration": 0.130979,
     "end_time": "2020-11-27T00:28:26.624003",
     "exception": false,
     "start_time": "2020-11-27T00:28:26.493024",
     "status": "completed"
    },
    "tags": []
   },
   "outputs": [
    {
     "data": {
      "text/html": [
       "<div>\n",
       "<style scoped>\n",
       "    .dataframe tbody tr th:only-of-type {\n",
       "        vertical-align: middle;\n",
       "    }\n",
       "\n",
       "    .dataframe tbody tr th {\n",
       "        vertical-align: top;\n",
       "    }\n",
       "\n",
       "    .dataframe thead th {\n",
       "        text-align: right;\n",
       "    }\n",
       "</style>\n",
       "<table border=\"1\" class=\"dataframe\">\n",
       "  <thead>\n",
       "    <tr style=\"text-align: right;\">\n",
       "      <th></th>\n",
       "      <th>category</th>\n",
       "      <th>probability</th>\n",
       "    </tr>\n",
       "  </thead>\n",
       "  <tbody>\n",
       "    <tr>\n",
       "      <th>6</th>\n",
       "      <td>Drama</td>\n",
       "      <td>0.487831</td>\n",
       "    </tr>\n",
       "    <tr>\n",
       "      <th>14</th>\n",
       "      <td>Romance</td>\n",
       "      <td>0.119808</td>\n",
       "    </tr>\n",
       "    <tr>\n",
       "      <th>3</th>\n",
       "      <td>Comedy</td>\n",
       "      <td>0.104097</td>\n",
       "    </tr>\n",
       "    <tr>\n",
       "      <th>12</th>\n",
       "      <td>Music</td>\n",
       "      <td>0.067690</td>\n",
       "    </tr>\n",
       "    <tr>\n",
       "      <th>0</th>\n",
       "      <td>Action</td>\n",
       "      <td>0.033158</td>\n",
       "    </tr>\n",
       "    <tr>\n",
       "      <th>7</th>\n",
       "      <td>Family</td>\n",
       "      <td>0.031852</td>\n",
       "    </tr>\n",
       "    <tr>\n",
       "      <th>17</th>\n",
       "      <td>Thriller</td>\n",
       "      <td>0.021055</td>\n",
       "    </tr>\n",
       "    <tr>\n",
       "      <th>4</th>\n",
       "      <td>Crime</td>\n",
       "      <td>0.019568</td>\n",
       "    </tr>\n",
       "    <tr>\n",
       "      <th>1</th>\n",
       "      <td>Adventure</td>\n",
       "      <td>0.019270</td>\n",
       "    </tr>\n",
       "    <tr>\n",
       "      <th>8</th>\n",
       "      <td>Fantasy</td>\n",
       "      <td>0.018774</td>\n",
       "    </tr>\n",
       "    <tr>\n",
       "      <th>15</th>\n",
       "      <td>Science Fiction</td>\n",
       "      <td>0.015202</td>\n",
       "    </tr>\n",
       "    <tr>\n",
       "      <th>13</th>\n",
       "      <td>Mystery</td>\n",
       "      <td>0.012780</td>\n",
       "    </tr>\n",
       "    <tr>\n",
       "      <th>2</th>\n",
       "      <td>Animation</td>\n",
       "      <td>0.012684</td>\n",
       "    </tr>\n",
       "    <tr>\n",
       "      <th>10</th>\n",
       "      <td>History</td>\n",
       "      <td>0.011906</td>\n",
       "    </tr>\n",
       "    <tr>\n",
       "      <th>11</th>\n",
       "      <td>Horror</td>\n",
       "      <td>0.007286</td>\n",
       "    </tr>\n",
       "    <tr>\n",
       "      <th>18</th>\n",
       "      <td>War</td>\n",
       "      <td>0.006201</td>\n",
       "    </tr>\n",
       "    <tr>\n",
       "      <th>5</th>\n",
       "      <td>Documentary</td>\n",
       "      <td>0.005048</td>\n",
       "    </tr>\n",
       "    <tr>\n",
       "      <th>19</th>\n",
       "      <td>Western</td>\n",
       "      <td>0.003436</td>\n",
       "    </tr>\n",
       "    <tr>\n",
       "      <th>9</th>\n",
       "      <td>Foreign</td>\n",
       "      <td>0.001925</td>\n",
       "    </tr>\n",
       "    <tr>\n",
       "      <th>16</th>\n",
       "      <td>TV Movie</td>\n",
       "      <td>0.000427</td>\n",
       "    </tr>\n",
       "  </tbody>\n",
       "</table>\n",
       "</div>"
      ],
      "text/plain": [
       "           category  probability\n",
       "6             Drama     0.487831\n",
       "14          Romance     0.119808\n",
       "3            Comedy     0.104097\n",
       "12            Music     0.067690\n",
       "0            Action     0.033158\n",
       "7            Family     0.031852\n",
       "17         Thriller     0.021055\n",
       "4             Crime     0.019568\n",
       "1         Adventure     0.019270\n",
       "8           Fantasy     0.018774\n",
       "15  Science Fiction     0.015202\n",
       "13          Mystery     0.012780\n",
       "2         Animation     0.012684\n",
       "10          History     0.011906\n",
       "11           Horror     0.007286\n",
       "18              War     0.006201\n",
       "5       Documentary     0.005048\n",
       "19          Western     0.003436\n",
       "9           Foreign     0.001925\n",
       "16         TV Movie     0.000427"
      ]
     },
     "execution_count": 32,
     "metadata": {},
     "output_type": "execute_result"
    }
   ],
   "source": [
    "getClassesProbabilities(clf, X_test[1])"
   ]
  },
  {
   "cell_type": "markdown",
   "metadata": {
    "papermill": {
     "duration": 0.077099,
     "end_time": "2020-11-27T00:28:26.780706",
     "exception": false,
     "start_time": "2020-11-27T00:28:26.703607",
     "status": "completed"
    },
    "tags": []
   },
   "source": [
    "---\n",
    "# 2. Topic Modeling\n",
    "\n",
    "Topic modeling is a type of statistical modeling for discovering the abstract \"topics\" that occur in a set of documents. \n",
    "[Latent Dirichlet Allocation](https://en.wikipedia.org/wiki/Latent_Dirichlet_allocation) (LDA) model is an algorithm used to classify text in a document to a particular topic. \n",
    "A topic is represented by a set of most representative words (common words) that appear in a collection of documents.\n",
    "\n",
    "References:\n",
    "\n",
    "- [A Beginner’s Guide to Latent Dirichlet Allocation (LDA)](https://towardsdatascience.com/latent-dirichlet-allocation-lda-9d1cd064ffa2)\n",
    "- [Topic Modeling and Latent Dirichlet Allocation (LDA) in Python](https://towardsdatascience.com/topic-modeling-and-latent-dirichlet-allocation-in-python-9bf156893c24)"
   ]
  },
  {
   "cell_type": "markdown",
   "metadata": {
    "papermill": {
     "duration": 0.083073,
     "end_time": "2020-11-27T00:28:26.940907",
     "exception": false,
     "start_time": "2020-11-27T00:28:26.857834",
     "status": "completed"
    },
    "tags": []
   },
   "source": [
    "## Using bag-of-words (BOW)"
   ]
  },
  {
   "cell_type": "code",
   "execution_count": 33,
   "metadata": {
    "execution": {
     "iopub.execute_input": "2020-11-27T00:28:27.102088Z",
     "iopub.status.busy": "2020-11-27T00:28:27.101139Z",
     "iopub.status.idle": "2020-11-27T00:28:34.968316Z",
     "shell.execute_reply": "2020-11-27T00:28:34.967307Z"
    },
    "papermill": {
     "duration": 7.950408,
     "end_time": "2020-11-27T00:28:34.968531",
     "exception": false,
     "start_time": "2020-11-27T00:28:27.018123",
     "status": "completed"
    },
    "tags": []
   },
   "outputs": [],
   "source": [
    "ldaBow = gensim.models.LdaMulticore(bowCorpus, num_topics=10, id2word=dictionary, passes=2, workers=2)"
   ]
  },
  {
   "cell_type": "markdown",
   "metadata": {
    "papermill": {
     "duration": 0.08251,
     "end_time": "2020-11-27T00:28:35.137646",
     "exception": false,
     "start_time": "2020-11-27T00:28:35.055136",
     "status": "completed"
    },
    "tags": []
   },
   "source": [
    "See the 5 most representative words for each abstract topic."
   ]
  },
  {
   "cell_type": "code",
   "execution_count": 34,
   "metadata": {
    "execution": {
     "iopub.execute_input": "2020-11-27T00:28:35.308976Z",
     "iopub.status.busy": "2020-11-27T00:28:35.307794Z",
     "iopub.status.idle": "2020-11-27T00:28:35.321522Z",
     "shell.execute_reply": "2020-11-27T00:28:35.320911Z"
    },
    "papermill": {
     "duration": 0.101207,
     "end_time": "2020-11-27T00:28:35.321645",
     "exception": false,
     "start_time": "2020-11-27T00:28:35.220438",
     "status": "completed"
    },
    "tags": []
   },
   "outputs": [
    {
     "name": "stdout",
     "output_type": "stream",
     "text": [
      "Topic: 0 Words: 0.011*\"young\" + 0.011*\"life\" + 0.008*\"get\" + 0.007*\"stori\" + 0.007*\"star\"\n",
      "Topic: 1 Words: 0.014*\"love\" + 0.008*\"life\" + 0.008*\"stori\" + 0.007*\"turn\" + 0.007*\"friend\"\n",
      "Topic: 2 Words: 0.014*\"year\" + 0.008*\"film\" + 0.008*\"famili\" + 0.007*\"take\" + 0.007*\"world\"\n",
      "Topic: 3 Words: 0.010*\"year\" + 0.009*\"life\" + 0.009*\"world\" + 0.009*\"live\" + 0.008*\"citi\"\n",
      "Topic: 4 Words: 0.013*\"life\" + 0.012*\"friend\" + 0.010*\"world\" + 0.009*\"stori\" + 0.007*\"love\"\n",
      "Topic: 5 Words: 0.011*\"young\" + 0.011*\"friend\" + 0.010*\"school\" + 0.009*\"world\" + 0.007*\"life\"\n",
      "Topic: 6 Words: 0.010*\"year\" + 0.009*\"life\" + 0.009*\"famili\" + 0.008*\"stori\" + 0.007*\"young\"\n",
      "Topic: 7 Words: 0.013*\"town\" + 0.010*\"young\" + 0.008*\"year\" + 0.007*\"world\" + 0.007*\"woman\"\n",
      "Topic: 8 Words: 0.015*\"film\" + 0.013*\"live\" + 0.009*\"world\" + 0.009*\"love\" + 0.008*\"take\"\n",
      "Topic: 9 Words: 0.014*\"life\" + 0.010*\"forc\" + 0.009*\"father\" + 0.008*\"friend\" + 0.007*\"find\"\n"
     ]
    }
   ],
   "source": [
    "for idx, topic in ldaBow.print_topics(num_words=5):\n",
    "    print('Topic: {} Words: {}'.format(idx, topic))"
   ]
  },
  {
   "cell_type": "markdown",
   "metadata": {
    "papermill": {
     "duration": 0.058942,
     "end_time": "2020-11-27T00:28:35.434605",
     "exception": false,
     "start_time": "2020-11-27T00:28:35.375663",
     "status": "completed"
    },
    "tags": []
   },
   "source": [
    "## Using TF-IDF"
   ]
  },
  {
   "cell_type": "code",
   "execution_count": 35,
   "metadata": {
    "execution": {
     "iopub.execute_input": "2020-11-27T00:28:35.604666Z",
     "iopub.status.busy": "2020-11-27T00:28:35.603539Z",
     "iopub.status.idle": "2020-11-27T00:28:41.486752Z",
     "shell.execute_reply": "2020-11-27T00:28:41.486175Z"
    },
    "papermill": {
     "duration": 5.969742,
     "end_time": "2020-11-27T00:28:41.486866",
     "exception": false,
     "start_time": "2020-11-27T00:28:35.517124",
     "status": "completed"
    },
    "tags": []
   },
   "outputs": [],
   "source": [
    "ldaTfidf = gensim.models.LdaMulticore(tfidfCorpus, num_topics=10, id2word=dictionary, passes=2, workers=4)"
   ]
  },
  {
   "cell_type": "markdown",
   "metadata": {
    "papermill": {
     "duration": 0.054712,
     "end_time": "2020-11-27T00:28:41.595674",
     "exception": false,
     "start_time": "2020-11-27T00:28:41.540962",
     "status": "completed"
    },
    "tags": []
   },
   "source": [
    "See the 5 most representative words for each abstract topic."
   ]
  },
  {
   "cell_type": "code",
   "execution_count": 36,
   "metadata": {
    "execution": {
     "iopub.execute_input": "2020-11-27T00:28:41.706884Z",
     "iopub.status.busy": "2020-11-27T00:28:41.706263Z",
     "iopub.status.idle": "2020-11-27T00:28:41.717033Z",
     "shell.execute_reply": "2020-11-27T00:28:41.715917Z"
    },
    "papermill": {
     "duration": 0.069117,
     "end_time": "2020-11-27T00:28:41.717205",
     "exception": false,
     "start_time": "2020-11-27T00:28:41.648088",
     "status": "completed"
    },
    "tags": []
   },
   "outputs": [
    {
     "name": "stdout",
     "output_type": "stream",
     "text": [
      "Topic: 0 Word: 0.005*\"life\" + 0.004*\"turn\" + 0.004*\"famili\" + 0.003*\"young\" + 0.003*\"school\"\n",
      "Topic: 1 Word: 0.005*\"stori\" + 0.004*\"life\" + 0.004*\"world\" + 0.004*\"young\" + 0.004*\"friend\"\n",
      "Topic: 2 Word: 0.004*\"love\" + 0.004*\"friend\" + 0.004*\"young\" + 0.004*\"life\" + 0.004*\"year\"\n",
      "Topic: 3 Word: 0.004*\"film\" + 0.004*\"meet\" + 0.004*\"year\" + 0.004*\"school\" + 0.004*\"stori\"\n",
      "Topic: 4 Word: 0.004*\"year\" + 0.004*\"life\" + 0.004*\"famili\" + 0.003*\"friend\" + 0.003*\"father\"\n",
      "Topic: 5 Word: 0.004*\"famili\" + 0.004*\"life\" + 0.003*\"friend\" + 0.003*\"world\" + 0.003*\"forc\"\n",
      "Topic: 6 Word: 0.004*\"life\" + 0.003*\"help\" + 0.003*\"world\" + 0.003*\"stori\" + 0.003*\"love\"\n",
      "Topic: 7 Word: 0.004*\"life\" + 0.004*\"stori\" + 0.004*\"world\" + 0.003*\"live\" + 0.003*\"help\"\n",
      "Topic: 8 Word: 0.004*\"young\" + 0.004*\"world\" + 0.004*\"life\" + 0.003*\"love\" + 0.003*\"year\"\n",
      "Topic: 9 Word: 0.004*\"lose\" + 0.004*\"famili\" + 0.004*\"young\" + 0.004*\"father\" + 0.004*\"live\"\n"
     ]
    }
   ],
   "source": [
    "for idx, topic in ldaTfidf.print_topics(num_words=5):\n",
    "    print('Topic: {} Word: {}'.format(idx, topic))"
   ]
  },
  {
   "cell_type": "markdown",
   "metadata": {
    "papermill": {
     "duration": 0.079472,
     "end_time": "2020-11-27T00:28:41.878166",
     "exception": false,
     "start_time": "2020-11-27T00:28:41.798694",
     "status": "completed"
    },
    "tags": []
   },
   "source": [
    "### Predicting Topic using LDA TF-IDF model\n",
    "\n",
    "Check which topic a movie belongs to.\n",
    "\n",
    "- Selecting a random movie - id 255."
   ]
  },
  {
   "cell_type": "code",
   "execution_count": 37,
   "metadata": {
    "execution": {
     "iopub.execute_input": "2020-11-27T00:28:42.046545Z",
     "iopub.status.busy": "2020-11-27T00:28:42.045652Z",
     "iopub.status.idle": "2020-11-27T00:28:42.056155Z",
     "shell.execute_reply": "2020-11-27T00:28:42.055460Z"
    },
    "papermill": {
     "duration": 0.098216,
     "end_time": "2020-11-27T00:28:42.056316",
     "exception": false,
     "start_time": "2020-11-27T00:28:41.958100",
     "status": "completed"
    },
    "tags": []
   },
   "outputs": [
    {
     "name": "stdout",
     "output_type": "stream",
     "text": [
      "\n",
      "Score: 0.8442930579185486\t Topic 9: 0.004*\"lose\" + 0.004*\"famili\" + 0.004*\"young\" + 0.004*\"father\" + 0.004*\"live\"\n",
      "\n",
      "Score: 0.01730569452047348\t Topic 4: 0.004*\"year\" + 0.004*\"life\" + 0.004*\"famili\" + 0.003*\"friend\" + 0.003*\"father\"\n",
      "\n",
      "Score: 0.01730503886938095\t Topic 7: 0.004*\"life\" + 0.004*\"stori\" + 0.004*\"world\" + 0.003*\"live\" + 0.003*\"help\"\n",
      "\n",
      "Score: 0.017302094027400017\t Topic 8: 0.004*\"young\" + 0.004*\"world\" + 0.004*\"life\" + 0.003*\"love\" + 0.003*\"year\"\n",
      "\n",
      "Score: 0.01730138435959816\t Topic 1: 0.005*\"stori\" + 0.004*\"life\" + 0.004*\"world\" + 0.004*\"young\" + 0.004*\"friend\"\n",
      "\n",
      "Score: 0.01730121485888958\t Topic 0: 0.005*\"life\" + 0.004*\"turn\" + 0.004*\"famili\" + 0.003*\"young\" + 0.003*\"school\"\n",
      "\n",
      "Score: 0.017298445105552673\t Topic 6: 0.004*\"life\" + 0.003*\"help\" + 0.003*\"world\" + 0.003*\"stori\" + 0.003*\"love\"\n",
      "\n",
      "Score: 0.017297767102718353\t Topic 3: 0.004*\"film\" + 0.004*\"meet\" + 0.004*\"year\" + 0.004*\"school\" + 0.004*\"stori\"\n",
      "\n",
      "Score: 0.017297744750976562\t Topic 5: 0.004*\"famili\" + 0.004*\"life\" + 0.003*\"friend\" + 0.003*\"world\" + 0.003*\"forc\"\n",
      "\n",
      "Score: 0.017297497019171715\t Topic 2: 0.004*\"love\" + 0.004*\"friend\" + 0.004*\"young\" + 0.004*\"life\" + 0.004*\"year\"\n"
     ]
    }
   ],
   "source": [
    "for index, score in sorted(ldaTfidf[tfidfCorpus[255]], key=lambda tup: -1*tup[1]):\n",
    "    print(\"\\nScore: {}\\t Topic {}: {}\".format(score, index, ldaTfidf.print_topic(index, 5)))"
   ]
  },
  {
   "cell_type": "markdown",
   "metadata": {
    "papermill": {
     "duration": 0.05472,
     "end_time": "2020-11-27T00:28:42.167532",
     "exception": false,
     "start_time": "2020-11-27T00:28:42.112812",
     "status": "completed"
    },
    "tags": []
   },
   "source": [
    "### Unseen movie using LDA BOW model\n",
    "\n",
    "Check which topic a new movie belongs to.\n",
    "\n",
    "- Topic identify for \"Toy Story 4\"."
   ]
  },
  {
   "cell_type": "code",
   "execution_count": 38,
   "metadata": {
    "execution": {
     "iopub.execute_input": "2020-11-27T00:28:42.279950Z",
     "iopub.status.busy": "2020-11-27T00:28:42.279103Z",
     "iopub.status.idle": "2020-11-27T00:28:42.284391Z",
     "shell.execute_reply": "2020-11-27T00:28:42.283742Z"
    },
    "papermill": {
     "duration": 0.063458,
     "end_time": "2020-11-27T00:28:42.284498",
     "exception": false,
     "start_time": "2020-11-27T00:28:42.221040",
     "status": "completed"
    },
    "tags": []
   },
   "outputs": [
    {
     "name": "stdout",
     "output_type": "stream",
     "text": [
      "Woody attempts to make Forky, a toy, suffering from existential crisis, realise his importance in the life of Bonnie, their owner. However, things become difficult when Gabby Gabby enters their lives.\n"
     ]
    }
   ],
   "source": [
    "newMovie = \"Woody attempts to make Forky, a toy, suffering from existential crisis, realise his importance in the life of Bonnie, their owner. However, things become difficult when Gabby Gabby enters their lives.\"\n",
    "print(newMovie)"
   ]
  },
  {
   "cell_type": "code",
   "execution_count": 39,
   "metadata": {
    "execution": {
     "iopub.execute_input": "2020-11-27T00:28:42.400531Z",
     "iopub.status.busy": "2020-11-27T00:28:42.399754Z",
     "iopub.status.idle": "2020-11-27T00:28:42.407770Z",
     "shell.execute_reply": "2020-11-27T00:28:42.407211Z"
    },
    "papermill": {
     "duration": 0.069135,
     "end_time": "2020-11-27T00:28:42.407875",
     "exception": false,
     "start_time": "2020-11-27T00:28:42.338740",
     "status": "completed"
    },
    "tags": []
   },
   "outputs": [
    {
     "name": "stdout",
     "output_type": "stream",
     "text": [
      "Score: 0.6099601984024048\t Topic 3: 0.010*\"year\" + 0.009*\"life\" + 0.009*\"world\" + 0.009*\"live\" + 0.008*\"citi\"\n",
      "Score: 0.3233419954776764\t Topic 9: 0.014*\"life\" + 0.010*\"forc\" + 0.009*\"father\" + 0.008*\"friend\" + 0.007*\"find\"\n"
     ]
    }
   ],
   "source": [
    "bowVector = dictionary.doc2bow(preprocess(newMovie))\n",
    "\n",
    "for index, score in sorted(ldaBow[bowVector], key=lambda tup: -1*tup[1]):\n",
    "    print(\"Score: {}\\t Topic {}: {}\".format(score, index, ldaBow.print_topic(index, 5)))"
   ]
  },
  {
   "cell_type": "code",
   "execution_count": null,
   "metadata": {
    "papermill": {
     "duration": 0.057266,
     "end_time": "2020-11-27T00:28:42.520074",
     "exception": false,
     "start_time": "2020-11-27T00:28:42.462808",
     "status": "completed"
    },
    "tags": []
   },
   "outputs": [],
   "source": []
  }
 ],
 "metadata": {
  "kernelspec": {
   "display_name": "Python 3",
   "language": "python",
   "name": "python3"
  },
  "language_info": {
   "codemirror_mode": {
    "name": "ipython",
    "version": 3
   },
   "file_extension": ".py",
   "mimetype": "text/x-python",
   "name": "python",
   "nbconvert_exporter": "python",
   "pygments_lexer": "ipython3",
   "version": "3.7.6"
  },
  "papermill": {
   "duration": 783.802546,
   "end_time": "2020-11-27T00:28:42.790288",
   "environment_variables": {},
   "exception": null,
   "input_path": "__notebook__.ipynb",
   "output_path": "__notebook__.ipynb",
   "parameters": {},
   "start_time": "2020-11-27T00:15:38.987742",
   "version": "2.1.0"
  }
 },
 "nbformat": 4,
 "nbformat_minor": 4
}
